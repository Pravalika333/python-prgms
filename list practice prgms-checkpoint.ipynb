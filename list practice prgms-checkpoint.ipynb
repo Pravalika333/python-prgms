{
 "cells": [
  {
   "cell_type": "code",
   "execution_count": 11,
   "metadata": {},
   "outputs": [
    {
     "name": "stdout",
     "output_type": "stream",
     "text": [
      "[1, 2, 'hello', 3, 4, 'lol']\n"
     ]
    }
   ],
   "source": [
    "# Python Program to Add two Lists\n",
    "l1=[1,2,'hello']\n",
    "l2=[3,4,\"lol\"]\n",
    "l3=l1+l2\n",
    "print(l3)"
   ]
  },
  {
   "cell_type": "code",
   "execution_count": 12,
   "metadata": {},
   "outputs": [
    {
     "name": "stdout",
     "output_type": "stream",
     "text": [
      "[15, 22, 33]\n",
      "[5, 18, 27]\n",
      "[50, 40, 90]\n",
      "[2.0, 10.0, 10.0]\n",
      "[0, 0, 0]\n",
      "[100000, 400, 27000]\n"
     ]
    }
   ],
   "source": [
    "# Python Program to Perform List Arithmetic Operations\n",
    " \n",
    "NumList1 = [10, 20, 30]\n",
    "NumList2 = [5, 2, 3]\n",
    "add = []\n",
    "sub = []\n",
    "multi = []\n",
    "div = []\n",
    "mod = []\n",
    "expo = []\n",
    " \n",
    "for j in range(3):\n",
    "    add.append( NumList1[j] + NumList2[j])\n",
    "    sub.append( NumList1[j] - NumList2[j])\n",
    "    multi.append( NumList1[j] * NumList2[j])\n",
    "    div.append( NumList1[j] / NumList2[j])\n",
    "    mod.append( NumList1[j] % NumList2[j])\n",
    "    expo.append( NumList1[j] ** NumList2[j])\n",
    " \n",
    "print(add)\n",
    "print(sub)\n",
    "print(multi)\n",
    "print(div)\n",
    "print(mod)\n",
    "print(expo)"
   ]
  },
  {
   "cell_type": "code",
   "execution_count": 13,
   "metadata": {},
   "outputs": [
    {
     "name": "stdout",
     "output_type": "stream",
     "text": [
      "2 is even\n",
      "3 is odd\n",
      "4 is even\n",
      "5 is odd\n",
      "6 is even\n"
     ]
    }
   ],
   "source": [
    "# Python Program to Count Even and Odd Numbers in a List\n",
    "l3=[2,3,4,5,6]\n",
    "for i in l3:\n",
    "    if i%2==0:\n",
    "        print(i, \"is even\")\n",
    "    else:\n",
    "        print(i, \"is odd\")"
   ]
  },
  {
   "cell_type": "code",
   "execution_count": 14,
   "metadata": {},
   "outputs": [
    {
     "name": "stdout",
     "output_type": "stream",
     "text": [
      "[0, 2, 4, 6, 8, 10, 12, 14, 16, 18]\n"
     ]
    }
   ],
   "source": [
    "s=[x*2 for x in range(10)]\n",
    "v=[x for x in s if x%2==0]\n",
    "print(v)"
   ]
  },
  {
   "cell_type": "code",
   "execution_count": 15,
   "metadata": {},
   "outputs": [
    {
     "name": "stdout",
     "output_type": "stream",
     "text": [
      "total number of even 3\n",
      "total number of odd 2\n"
     ]
    }
   ],
   "source": [
    "l3=[2,3,4,5,6]\n",
    "even=0\n",
    "odd=0\n",
    "for i in l3:\n",
    "    if i%2==0:\n",
    "        even=even+1\n",
    "    else:\n",
    "        odd=odd+1\n",
    "print(\"total number of even\", even)\n",
    "print(\"total number of odd\", odd)"
   ]
  },
  {
   "cell_type": "code",
   "execution_count": 16,
   "metadata": {},
   "outputs": [
    {
     "name": "stdout",
     "output_type": "stream",
     "text": [
      "enter the total no. of elements4\n",
      "enter the list of elements1\n",
      "enter the list of elements2\n",
      "enter the list of elements3\n",
      "enter the list of elements4\n",
      "total no of even numbers 2\n",
      "total no of odd numbers 2\n"
     ]
    }
   ],
   "source": [
    "# Python Program to count even and odd Number in a List \n",
    "number_list=[]\n",
    "even=0\n",
    "odd=0\n",
    "number=int(input(\"enter the total no. of elements\"))\n",
    "for i in range(1,number+1):\n",
    "    value=int(input(\"enter the list of elements\"))\n",
    "    number_list.append(value)\n",
    "for j in range(number):\n",
    "    if number_list[j]%2==0:\n",
    "        even=even+1\n",
    "    else:\n",
    "        odd=odd+1\n",
    "print(\"total no of even numbers\",even)\n",
    "print(\"total no of odd numbers\",odd)"
   ]
  },
  {
   "cell_type": "markdown",
   "metadata": {},
   "source": []
  },
  {
   "cell_type": "code",
   "execution_count": 17,
   "metadata": {},
   "outputs": [
    {
     "name": "stdout",
     "output_type": "stream",
     "text": [
      "enter the total no. of elements4\n",
      "enter the list of elements2\n",
      "enter the list of elements1\n",
      "enter the list of elements3\n",
      "enter the list of elements2\n",
      "largest number in list 3\n",
      "lowest number in list 1\n"
     ]
    }
   ],
   "source": [
    "# Python Program to find max and min Number in a List \n",
    "number_list=[]\n",
    "number=int(input(\"enter the total no. of elements\"))\n",
    "for i in range(1,number+1):\n",
    "    value=int(input(\"enter the list of elements\"))\n",
    "    number_list.append(value)\n",
    "print(\"largest number in list\",max(number_list)) \n",
    "print(\"lowest number in list\",min(number_list))"
   ]
  },
  {
   "cell_type": "code",
   "execution_count": 3,
   "metadata": {},
   "outputs": [
    {
     "name": "stdout",
     "output_type": "stream",
     "text": [
      "enter the total no. of elements5\n",
      "enter the list of elements32\n",
      "enter the list of elements2\n",
      "enter the list of elements34\n",
      "enter the list of elements-3\n",
      "enter the list of elements2\n",
      "total no of positive numbers 4\n",
      "total no of negative numbers 1\n"
     ]
    }
   ],
   "source": [
    "number_list=[]\n",
    "positive_count=0\n",
    "negative_count=0\n",
    "number=int(input(\"enter the total no. of elements\"))\n",
    "for i in range(1,number+1):\n",
    "    value=int(input(\"enter the list of elements\"))\n",
    "    number_list.append(value)\n",
    "for j in range(number):\n",
    "    if number_list[j]>=0:\n",
    "        positive_count=positive_count+1\n",
    "    else:\n",
    "        negative_count=negative_count+1\n",
    "print(\"total no of positive numbers\",positive_count)\n",
    "print(\"total no of negative numbers\",negative_count)"
   ]
  },
  {
   "cell_type": "markdown",
   "metadata": {},
   "source": []
  },
  {
   "cell_type": "markdown",
   "metadata": {},
   "source": []
  },
  {
   "cell_type": "code",
   "execution_count": 45,
   "metadata": {},
   "outputs": [
    {
     "name": "stdout",
     "output_type": "stream",
     "text": [
      "[5, 4, 3, 2]\n"
     ]
    }
   ],
   "source": [
    "#reverse list items\n",
    "l3=[2,3,4,5]\n",
    "print(l3[::-1])"
   ]
  },
  {
   "cell_type": "code",
   "execution_count": 4,
   "metadata": {},
   "outputs": [
    {
     "name": "stdout",
     "output_type": "stream",
     "text": [
      "enter the total no. of elements4\n",
      "enter the list of elements3\n",
      "enter the list of elements4\n",
      "enter the list of elements3\n",
      "enter the list of elements2\n",
      "enter the elements in reverse order [2, 3, 4, 3]\n"
     ]
    }
   ],
   "source": [
    "# Python Program to Reverse List Elements\n",
    "number_list=[]\n",
    "number=int(input(\"enter the total no. of elements\"))\n",
    "for i in range(1,number+1):\n",
    "    value=int(input(\"enter the list of elements\"))\n",
    "    number_list.append(value)\n",
    "number_list.reverse()\n",
    "print(\"enter the elements in reverse order\",number_list)"
   ]
  },
  {
   "cell_type": "code",
   "execution_count": 5,
   "metadata": {},
   "outputs": [
    {
     "name": "stdout",
     "output_type": "stream",
     "text": [
      "enter the total no. of elements4\n",
      "enter the list of elements3\n",
      "enter the list of elements2\n",
      "enter the list of elements3\n",
      "enter the list of elements3\n",
      "enter the elements in ascending(low to high) order [2, 3, 3, 3]\n",
      "enter the elements in descending(high to low) order [3, 3, 3, 2]\n"
     ]
    }
   ],
   "source": [
    "# Python Program to find descending and ascending list Elements\n",
    "number_list=[]\n",
    "number=int(input(\"enter the total no. of elements\"))\n",
    "for i in range(1,number+1):\n",
    "    value=int(input(\"enter the list of elements\"))\n",
    "    number_list.append(value)\n",
    "number_list.reverse()\n",
    "p=sorted(number_list)\n",
    "q=sorted(number_list,reverse=True)\n",
    "print(\"enter the elements in ascending(low to high) order\",p)\n",
    "print(\"enter the elements in descending(high to low) order\",q)"
   ]
  },
  {
   "cell_type": "code",
   "execution_count": 6,
   "metadata": {},
   "outputs": [
    {
     "name": "stdout",
     "output_type": "stream",
     "text": [
      "enter the total elements in list4\n",
      "enter the values in a list3\n",
      "enter the values in a list2\n",
      "enter the values in a list5\n",
      "enter the values in a list7\n",
      "3 5 7 "
     ]
    }
   ],
   "source": [
    "# Python Program to Print odd Numbers in a List\n",
    "num_list=[]\n",
    "odd=0\n",
    "p=int(input(\"enter the total elements in list\"))\n",
    "for i in range(1,p+1):\n",
    "    value=int(input(\"enter the values in a list\"))\n",
    "    num_list.append(value)\n",
    "for j in range(p):\n",
    "    if num_list[j]%2!=0:\n",
    "        print(num_list[j],end=\" \")"
   ]
  },
  {
   "cell_type": "code",
   "execution_count": 7,
   "metadata": {},
   "outputs": [
    {
     "name": "stdout",
     "output_type": "stream",
     "text": [
      "enter the total elements in list5\n",
      "enter the values in a list3\n",
      "enter the values in a list2\n",
      "enter the values in a list3\n",
      "enter the values in a list54\n",
      "enter the values in a list5\n",
      "sum of elements in list 67\n"
     ]
    }
   ],
   "source": [
    "# Python Program to find sum of Numbers in a List\n",
    "z=[]\n",
    "v=int(input(\"enter the total elements in list\"))\n",
    "for i in range(1,v+1):\n",
    "    value=int(input(\"enter the values in a list\"))\n",
    "    z.append(value)\n",
    "print(\"sum of elements in list\",sum(z))"
   ]
  },
  {
   "cell_type": "markdown",
   "metadata": {},
   "source": [
    "#reference:\n",
    "#for count:\n",
    "    postive no=postive_no+1\n",
    "#for sum:\n",
    "starting we need to assign sum=0, even=0\n",
    "    i%2==0:\n",
    "        even_no=even_no+number_list[j]\n",
    "#for print:\n",
    "     num_list>0\n",
    "    print(num_list[j]) \n",
    "for seperate list:\n",
    "positive.append(number_list[j])"
   ]
  },
  {
   "cell_type": "code",
   "execution_count": 8,
   "metadata": {},
   "outputs": [
    {
     "name": "stdout",
     "output_type": "stream",
     "text": [
      "enter the total elements in list4\n",
      "enter the values in a list3\n",
      "enter the values in a list1\n",
      "enter the values in a list3\n",
      "enter the values in a list45\n",
      "total no of sum of odd elements 52\n"
     ]
    }
   ],
   "source": [
    "# Python Program to find sum of all odd Numbers in a List\n",
    "num_list=[]\n",
    "odd_sum=0\n",
    "p=int(input(\"enter the total elements in list\"))\n",
    "for i in range(1,p+1):\n",
    "    value=int(input(\"enter the values in a list\"))\n",
    "    num_list.append(value)\n",
    "for j in range(p):\n",
    "    if num_list[j]%2!=0:\n",
    "        odd_sum=odd_sum+num_list[j]\n",
    "print(\"total no of sum of odd elements\",odd_sum)"
   ]
  },
  {
   "cell_type": "markdown",
   "metadata": {},
   "source": []
  },
  {
   "cell_type": "code",
   "execution_count": 9,
   "metadata": {},
   "outputs": [
    {
     "name": "stdout",
     "output_type": "stream",
     "text": [
      "enter the total elements in list4\n",
      "enter the values in a list3\n",
      "enter the values in a list2\n",
      "enter the values in a list1\n",
      "enter the values in a list34\n",
      "total sum of even elements 36\n",
      "total sum of odd elements 4\n"
     ]
    }
   ],
   "source": [
    "# Python Program to find sum of all even and odd Numbers in a List\n",
    "num_list=[]\n",
    "even_sum=0\n",
    "odd_sum=0\n",
    "p=int(input(\"enter the total elements in list\"))\n",
    "for i in range(1,p+1):\n",
    "    value=int(input(\"enter the values in a list\"))\n",
    "    num_list.append(value)\n",
    "for j in range(p):\n",
    "    if num_list[j]%2==0:\n",
    "        even_sum=even_sum+num_list[j]\n",
    "    else:\n",
    "        odd_sum=odd_sum+num_list[j]\n",
    "print(\"total sum of even elements\",even_sum)\n",
    "print(\"total sum of odd elements\",odd_sum)"
   ]
  },
  {
   "cell_type": "code",
   "execution_count": 10,
   "metadata": {},
   "outputs": [
    {
     "name": "stdout",
     "output_type": "stream",
     "text": [
      "enter the total no. of elements4\n",
      "enter the list of elements3\n",
      "enter the list of elements23\n",
      "enter the list of elements3\n",
      "enter the list of elements2\n",
      "3\n",
      "23\n",
      "3\n",
      "2\n"
     ]
    }
   ],
   "source": [
    "# Python Program to print Positive Numbers in a List\n",
    "number_list=[]\n",
    "number=int(input(\"enter the total no. of elements\"))\n",
    "for i in range(1,number+1):\n",
    "    value=int(input(\"enter the list of elements\"))\n",
    "    number_list.append(value)\n",
    "for j in range(number):\n",
    "    if number_list[j]>=0:\n",
    "        print(number_list[j])"
   ]
  },
  {
   "cell_type": "markdown",
   "metadata": {},
   "source": []
  },
  {
   "cell_type": "code",
   "execution_count": 77,
   "metadata": {},
   "outputs": [
    {
     "name": "stdout",
     "output_type": "stream",
     "text": [
      "0\n"
     ]
    },
    {
     "data": {
      "text/plain": [
       "4"
      ]
     },
     "execution_count": 77,
     "metadata": {},
     "output_type": "execute_result"
    }
   ],
   "source": [
    "#fo find length of a list \n",
    "empty_list=[]\n",
    "print(len(empty_list))\n",
    "\n",
    "l3=[\"hello\",3.4,5,-6]\n",
    "len(l3)"
   ]
  },
  {
   "cell_type": "code",
   "execution_count": 85,
   "metadata": {},
   "outputs": [
    {
     "name": "stdout",
     "output_type": "stream",
     "text": [
      "[23, 'hello', 3.4, -1]\n",
      "element in list are:\n",
      "each element in a list to be printed 23\n",
      "each element in a list to be printed hello\n",
      "each element in a list to be printed 3.4\n",
      "each element in a list to be printed -1\n"
     ]
    }
   ],
   "source": [
    "#print elements in a list\n",
    "a=[23,\"hello\",3.4,-1]\n",
    "print(a)\n",
    "\n",
    "#another method:\n",
    "a=[23,\"hello\",3.4,-1]\n",
    "print(\"element in list are:\")\n",
    "for i in range(len(a)):\n",
    "    print(\"each element in a list to be printed\",a[i])"
   ]
  },
  {
   "cell_type": "code",
   "execution_count": 93,
   "metadata": {},
   "outputs": [
    {
     "name": "stdout",
     "output_type": "stream",
     "text": [
      "enter the total no. of elements4\n",
      "enter the list of elements-1\n",
      "enter the list of elements1\n",
      "enter the list of elements0\n",
      "enter the list of elements1\n",
      "enter the elements in ascending(low to high) order 1\n"
     ]
    }
   ],
   "source": [
    "# Python Program to find second largest no. in list Elements\n",
    "number_list=[]\n",
    "number=int(input(\"enter the total no. of elements\"))\n",
    "for i in range(1,number+1):\n",
    "    value=int(input(\"enter the list of elements\"))\n",
    "    number_list.append(value)\n",
    "number_list.reverse()\n",
    "number_list.sort()\n",
    "print(\"enter the elements in ascending(low to high) order\",number_list[number-2])"
   ]
  },
  {
   "cell_type": "code",
   "execution_count": 94,
   "metadata": {},
   "outputs": [
    {
     "name": "stdout",
     "output_type": "stream",
     "text": [
      "[2, 4, 5, 32]\n"
     ]
    }
   ],
   "source": [
    "#diff between sort and sorted:\n",
    "l1=[32,4,2,5]\n",
    "p=sorted(l1)\n",
    "print(p)"
   ]
  },
  {
   "cell_type": "code",
   "execution_count": 97,
   "metadata": {},
   "outputs": [
    {
     "name": "stdout",
     "output_type": "stream",
     "text": [
      "[2, 4, 5, 32]\n"
     ]
    }
   ],
   "source": [
    "l1=[32,4,2,5]\n",
    "l1.sort()\n",
    "print(l1)"
   ]
  },
  {
   "cell_type": "code",
   "execution_count": 102,
   "metadata": {},
   "outputs": [
    {
     "name": "stdout",
     "output_type": "stream",
     "text": [
      "enter the total no. of elements4\n",
      "enter the list of elements-1\n",
      "enter the list of elements-1\n",
      "enter the list of elements3\n",
      "enter the list of elements2\n",
      "sum of positive numbers 5\n",
      "sum of negative numbers -2\n"
     ]
    }
   ],
   "source": [
    "# Python Program to write sum of Positive and negative Numbers in a List\n",
    "number_list=[]\n",
    "positive_sum=0\n",
    "negative_sum=0\n",
    "number=int(input(\"enter the total no. of elements\"))\n",
    "for i in range(1,number+1):\n",
    "    value=int(input(\"enter the list of elements\"))\n",
    "    number_list.append(value)\n",
    "for j in range(number):\n",
    "    if number_list[j]>=0:\n",
    "        positive_sum=positive_sum+number_list[j]\n",
    "    else:\n",
    "        negative_sum=negative_sum+number_list[j]\n",
    "print(\"sum of positive numbers\",positive_sum)\n",
    "print(\"sum of negative numbers\",negative_sum)"
   ]
  },
  {
   "cell_type": "code",
   "execution_count": 17,
   "metadata": {},
   "outputs": [
    {
     "name": "stdout",
     "output_type": "stream",
     "text": [
      "enter the total no. of elements5\n",
      "enter the list of elements-3\n",
      "enter the list of elements-4\n",
      "enter the list of elements-8\n",
      "enter the list of elements3\n",
      "enter the list of elements2\n",
      "positive no's in separate list [3, 2]\n",
      "negative no's in separate list [-3, -4, -8]\n"
     ]
    }
   ],
   "source": [
    "# Python Program to Put Positive and Negative Numbers in Separate List\n",
    "\n",
    "number_list=[]\n",
    "positive=[]\n",
    "negative=[]\n",
    "number=int(input(\"enter the total no. of elements\"))\n",
    "for i in range(1,number+1):\n",
    "    value=int(input(\"enter the list of elements\"))\n",
    "    number_list.append(value)\n",
    "for j in range(number):\n",
    "    if number_list[j]>=0:\n",
    "        positive.append(number_list[j])\n",
    "    else:\n",
    "        negative.append(number_list[j])\n",
    "print(\"positive no's in separate list\",positive)\n",
    "print(\"negative no's in separate list\",negative)"
   ]
  },
  {
   "cell_type": "code",
   "execution_count": 9,
   "metadata": {},
   "outputs": [
    {
     "name": "stdout",
     "output_type": "stream",
     "text": [
      "enter the total no. of elements4\n",
      "enter the list of elements1\n",
      "enter the list of elements3\n",
      "enter the list of elements5\n",
      "enter the list of elements5\n",
      "positive numbers in list 1\n",
      "positive numbers in list 3\n",
      "positive numbers in list 5\n",
      "positive numbers in list 5\n"
     ]
    }
   ],
   "source": [
    "# Python Program to print Negative and positive Numbers in a List      \n",
    "number_list=[]\n",
    "number=int(input(\"enter the total no. of elements\"))\n",
    "for i in range(1,number+1):\n",
    "    value=int(input(\"enter the list of elements\"))\n",
    "    number_list.append(value)\n",
    "for j in range(number):\n",
    "    if number_list[j]>=0:\n",
    "        print(\"positive numbers in list\",number_list[j])\n",
    "    else:\n",
    "        number_list[j]<0\n",
    "        print(\"negative numbers in list\",number_list[j])"
   ]
  },
  {
   "cell_type": "code",
   "execution_count": 3,
   "metadata": {},
   "outputs": [
    {
     "name": "stdout",
     "output_type": "stream",
     "text": [
      "enter the total elements in list3\n",
      "enter the values in a list-1\n",
      "enter the values in a list2\n",
      "enter the values in a list3\n",
      "even numbers in list [2]\n",
      "odd numbers in list [-1, 3]\n"
     ]
    }
   ],
   "source": [
    "# Python Program to print all even and odd Numbers in a seperate List\n",
    "num_list=[]\n",
    "even=[]\n",
    "odd=[]\n",
    "p=int(input(\"enter the total elements in list\"))\n",
    "for i in range(1,p+1):\n",
    "    value=int(input(\"enter the values in a list\"))\n",
    "    num_list.append(value)\n",
    "for j in range(p):\n",
    "    if num_list[j]%2==0:\n",
    "        even.append(num_list[j])\n",
    "    elif num_list[j]%2!=0:\n",
    "        odd.append(num_list[j]) \n",
    "    else:\n",
    "        pass\n",
    "print(\"even numbers in list\",even)\n",
    "print(\"odd numbers in list\",odd)\n"
   ]
  },
  {
   "cell_type": "code",
   "execution_count": 13,
   "metadata": {},
   "outputs": [
    {
     "name": "stdout",
     "output_type": "stream",
     "text": [
      "enter the total elements in list5\n",
      "enter the values in a list4\n",
      "enter the values in a list3\n",
      "enter the values in a list2\n",
      "enter the values in a list2\n",
      "enter the values in a list4\n",
      "total sum of even elements 12\n"
     ]
    }
   ],
   "source": [
    "# Python Program to find sum of all even Numbers in a List\n",
    "num_list=[]\n",
    "even_sum=0\n",
    "p=int(input(\"enter the total elements in list\"))\n",
    "for i in range(1,p+1):\n",
    "    value=int(input(\"enter the values in a list\"))\n",
    "    num_list.append(value)\n",
    "for j in range(p):\n",
    "    if num_list[j]%2==0:\n",
    "        even_sum=even_sum+num_list[j]\n",
    "print(\"total sum of even elements\",even_sum)"
   ]
  },
  {
   "cell_type": "markdown",
   "metadata": {},
   "source": []
  },
  {
   "cell_type": "code",
   "execution_count": 14,
   "metadata": {},
   "outputs": [
    {
     "name": "stdout",
     "output_type": "stream",
     "text": [
      "enter the total elements in list4\n",
      "enter the values in a list3\n",
      "enter the values in a list4\n",
      "enter the values in a list5\n",
      "enter the values in a list3\n",
      "4 "
     ]
    }
   ],
   "source": [
    "# Python Program to Print Even Numbers in a List\n",
    "num_list=[]\n",
    "even=0\n",
    "p=int(input(\"enter the total elements in list\"))\n",
    "for i in range(1,p+1):\n",
    "    value=int(input(\"enter the values in a list\"))\n",
    "    num_list.append(value)\n",
    "for j in range(p):\n",
    "    if num_list[j]%2==0:\n",
    "        print(num_list[j],end=\" \")"
   ]
  },
  {
   "cell_type": "code",
   "execution_count": 19,
   "metadata": {},
   "outputs": [
    {
     "name": "stdout",
     "output_type": "stream",
     "text": [
      "enter the total no. of elements4\n",
      "enter the list of elements-1\n",
      "enter the list of elements3\n",
      "enter the list of elements2\n",
      "enter the list of elements4\n",
      "-1 "
     ]
    }
   ],
   "source": [
    "# Python Program to print Negative Numbers in a List\n",
    "number_list=[]\n",
    "number=int(input(\"enter the total no. of elements\"))\n",
    "for i in range(1,number+1):\n",
    "    value=int(input(\"enter the list of elements\"))\n",
    "    number_list.append(value)\n",
    "for j in range(number):\n",
    "    if number_list[j]<0:\n",
    "        print(number_list[j],end=\" \")"
   ]
  },
  {
   "cell_type": "code",
   "execution_count": 4,
   "metadata": {},
   "outputs": [
    {
     "name": "stdout",
     "output_type": "stream",
     "text": [
      "enter the total elements in list3\n",
      "enter the values in a list5\n",
      "enter the values in a list6\n",
      "enter the values in a list7\n",
      "all odd numbers 5\n",
      "all even no's 6\n",
      "all odd numbers 7\n"
     ]
    }
   ],
   "source": [
    "# Python Program to print all even and odd Numbers in a List\n",
    "num_list=[]\n",
    "p=int(input(\"enter the total elements in list\"))\n",
    "for i in range(1,p+1):\n",
    "    value=int(input(\"enter the values in a list\"))\n",
    "    num_list.append(value)\n",
    "for j in range(p):\n",
    "    if num_list[j]%2==0:\n",
    "        print(\"all even no's\",num_list[j])\n",
    "    else:\n",
    "        num_list[j]%2!=0\n",
    "        print(\"all odd numbers\",num_list[j])"
   ]
  },
  {
   "cell_type": "code",
   "execution_count": null,
   "metadata": {},
   "outputs": [],
   "source": []
  }
 ],
 "metadata": {
  "kernelspec": {
   "display_name": "Python 3",
   "language": "python",
   "name": "python3"
  },
  "language_info": {
   "codemirror_mode": {
    "name": "ipython",
    "version": 3
   },
   "file_extension": ".py",
   "mimetype": "text/x-python",
   "name": "python",
   "nbconvert_exporter": "python",
   "pygments_lexer": "ipython3",
   "version": "3.6.5"
  }
 },
 "nbformat": 4,
 "nbformat_minor": 2
}
