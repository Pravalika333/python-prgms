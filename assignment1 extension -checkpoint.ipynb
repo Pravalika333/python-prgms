{
 "cells": [
  {
   "cell_type": "code",
   "execution_count": 4,
   "metadata": {},
   "outputs": [
    {
     "name": "stdout",
     "output_type": "stream",
     "text": [
      "0101,1010,1000\n",
      "0101,1010\n"
     ]
    }
   ],
   "source": [
    "#write an prgm which accepts a sequence of comma seperated 4 digit binary numbers as its input and then check whether they r divisible by 5 or not\n",
    "\n",
    "items=[]\n",
    "num=[x for x in input().split(',')]\n",
    "for p in num:\n",
    "    x=int(p,2)\n",
    "    if x%5==0:\n",
    "        items.append(p)\n",
    "print(\",\".join(items))"
   ]
  },
  {
   "cell_type": "code",
   "execution_count": 11,
   "metadata": {},
   "outputs": [
    {
     "name": "stdout",
     "output_type": "stream",
     "text": [
      "enter number4\n",
      "00000100"
     ]
    }
   ],
   "source": [
    "#write prgm to convert decimal to binary number system using bitwise operator\n",
    "binary_num=list()\n",
    "decimal_num=int(input(\"enter number\"))\n",
    "for i in range(0,8):\n",
    "    shift=decimal_num>>i #code to check value of last bit and append 1 or 0 to list make binary number\n",
    "    if shift&1:\n",
    "        binary_num.append(1)\n",
    "    else:\n",
    "        binary_num.append(0)\n",
    "for j in range(-1,-9,-1):\n",
    "    print(binary_num[j],end=\"\")"
   ]
  },
  {
   "cell_type": "code",
   "execution_count": 2,
   "metadata": {},
   "outputs": [
    {
     "name": "stdout",
     "output_type": "stream",
     "text": [
      "enter number3\n",
      "00000011\n",
      " 6  0's and 2  1's in given 8bit binary number \n"
     ]
    }
   ],
   "source": [
    "#Write a program to count total zeros and ones in a binary number.\n",
    "count_zero=0\n",
    "count_one=0\n",
    "binary_num=list()\n",
    "decimal_num= int(input(\"enter number\"))\n",
    "\n",
    "# function to convert decimal to binary\n",
    "def decimal_binary(decimal_num):\n",
    "    for i in range(0,8):\n",
    "        shift=decimal_num>>i  # code to check value of last bit and append 1 or 0 to list make biary number\n",
    "        if shift&1:\n",
    "            binary_num.append(1)\n",
    "        else:\n",
    "            binary_num.append(0)\n",
    "    return binary_num.reverse()\n",
    "\n",
    "decimal_binary(decimal_num) # function call\n",
    "for j in range(0,8):\n",
    "       print(binary_num[j],end=\"\")\n",
    "length=len(binary_num)\n",
    "for i in range(0,length): # loop to count zeros  and ones\n",
    "    if binary_num[i]==1:\n",
    "        count_one=count_one+1\n",
    "    else:\n",
    "        count_zero=count_zero+1\n",
    "print(\"\\n {}  0's and {}  1's in given 8bit binary number \".format(count_zero,count_one))"
   ]
  },
  {
   "cell_type": "code",
   "execution_count": null,
   "metadata": {},
   "outputs": [],
   "source": [
    "#Write a program to toggle nth bit of a number\n",
    "\n",
    "\n",
    "\n",
    "num=int(input(\" number\")) \n",
    "n =int(input(\"position of bit to toggle\")) \n",
    "print(\"result after toggling\")  \n",
    "print(num ^ (1 << (n - 1))) # xor with the position bit to toggle"
   ]
  },
  {
   "cell_type": "code",
   "execution_count": 1,
   "metadata": {},
   "outputs": [
    {
     "name": "stdout",
     "output_type": "stream",
     "text": [
      "enter number3\n",
      "00000011\n",
      " after fliping \n",
      "\n",
      "11111100"
     ]
    }
   ],
   "source": [
    "#Write a program to flip bits of a binary number using bitwise operator.\n",
    "\n",
    "decimal_num= int(input(\"enter number\"))\n",
    "binary_num=[]\n",
    "flip_num=[]\n",
    "# function to convert decimal to binary\n",
    "def decimal_binary(decimal_num):\n",
    "    for i in range(0,8):\n",
    "        shift=decimal_num>>i  # code to check value of last bit and append 1 or 0 to list make biary number\n",
    "        if shift&1:\n",
    "            binary_num.append(1)\n",
    "        else:\n",
    "            binary_num.append(0)\n",
    "    return binary_num.reverse()\n",
    "\n",
    "# function to flip bits\n",
    "def flip_binary(decimal_num):\n",
    "    for i in range(0,8):\n",
    "        shift=decimal_num>>i  # code to check value of last bit and flip it \n",
    "        if shift&1:\n",
    "            flip_num.append(0)\n",
    "        else:\n",
    "            flip_num.append(1)\n",
    "    return flip_num.reverse()\n",
    "decimal_binary(decimal_num) # function call to decimal_binary\n",
    "for j in range(0,8):\n",
    "       print(binary_num[j],end=\"\")\n",
    "\n",
    "print(\"\\n after fliping \\n\")\n",
    "flip_binary(decimal_num) # fucntion call to flip bits\n",
    "for j in range(0,8):\n",
    "       print(flip_num[j],end=\"\")"
   ]
  },
  {
   "cell_type": "code",
   "execution_count": null,
   "metadata": {},
   "outputs": [],
   "source": []
  },
  {
   "cell_type": "code",
   "execution_count": null,
   "metadata": {},
   "outputs": [],
   "source": []
  },
  {
   "cell_type": "code",
   "execution_count": 25,
   "metadata": {},
   "outputs": [
    {
     "name": "stdout",
     "output_type": "stream",
     "text": [
      "enter number2\n",
      "00000010\n",
      " 1 trailing zeros \n"
     ]
    }
   ],
   "source": [
    "#Write a program to count trailing zeros in a binary number.\n",
    "\n",
    "\n",
    "count_zero=0\n",
    "binary_num=list()\n",
    "decimal_num= int(input(\"enter number\"))\n",
    "\n",
    "# function to convert decimal to binary\n",
    "def decimal_binary(decimal_num):\n",
    "    for i in range(0,8):\n",
    "        shift=decimal_num>>i  # code to check value of last bit and append 1 or 0 to list make biary number\n",
    "        if shift&1:\n",
    "            binary_num.append(1)\n",
    "        else:\n",
    "            binary_num.append(0)\n",
    "    return binary_num.reverse()\n",
    "\n",
    "decimal_binary(decimal_num) # function call\n",
    "for j in range(0,8):\n",
    "       print(binary_num[j],end=\"\")\n",
    "length=len(binary_num)\n",
    "for i in range(0,length): # loop to count trailing zeros \n",
    "    if binary_num[i]==1:\n",
    "        count_zero=count_zero+1\n",
    "        break\n",
    "print(\"\\n {} trailing zeros \".format(count_zero))"
   ]
  },
  {
   "cell_type": "code",
   "execution_count": 9,
   "metadata": {},
   "outputs": [
    {
     "name": "stdout",
     "output_type": "stream",
     "text": [
      "enter list of tuples like [('tom','19','80'),('jhon','20','90')]\n",
      "[('joe','20',50'),('noe','55','76')]\n",
      "[(\"'noe'\", \"'55'\", \"'76']\"), (\"['joe'\", \"'20'\", \"50'\")]\n"
     ]
    }
   ],
   "source": [
    "# You are required to write a program to sort the (name, age, height) tuples by ascending order where name is string, age and height are numbers.\n",
    "\n",
    "# The tuples are input by console. The sort criteria is:\n",
    "\n",
    "# 1: Sort based on name;\n",
    "\n",
    "# 2: Then sort based on age;\n",
    "\n",
    "# 3: Then sort by score.\n",
    "\n",
    "#The priority is that name > age > score.\n",
    "\n",
    "#If the following tuples are given as input to the program:\n",
    "\n",
    "#Tom,19,80\n",
    "\n",
    "#John,20,90\n",
    "\n",
    "#Jony,17,91\n",
    "\n",
    "#Jony,17,93\n",
    "\n",
    "#Json,21,85\n",
    "\n",
    "#Then, the output of the program should be:\n",
    "\n",
    "#[('John', '20', '90'), ('Jony', '17', '91'), ('Jony', '17', '93'), ('Json', '21', '85'), ('Tom', '19', '80')]\n",
    "\n",
    "\n",
    "\n",
    "\n",
    "def Sort_Tuple(tup):\n",
    "    lst = len(tup)\n",
    "    for i in range(0,lst):\n",
    "        for j in range(0,lst-i-1):\n",
    "            if(tup[j][0] > tup[j+1][0]):\n",
    "                temp=tup[j]\n",
    "                tup[j]=tup[j+1]\n",
    "                tup[j+1]=temp\n",
    "    return tup\n",
    "\n",
    "\n",
    "list2=input(\"enter list of tuples like [('tom','19','80'),('john','20','90')]\\n\")\n",
    "l=[]\n",
    "for tup in list2.split('),('):\n",
    "    tup=tup.replace(')','').replace('(','')\n",
    "    l.append(tuple(tup.split(',')))\n",
    "#print(l)\n",
    "\n",
    "#tup=[('tom','19','80'),('john','20','90'),('jony','17','91'),('jony','17','93'),('json','21','80')]\n",
    "print(Sort_Tuple(l))\n"
   ]
  },
  {
   "cell_type": "code",
   "execution_count": 1,
   "metadata": {},
   "outputs": [
    {
     "name": "stdout",
     "output_type": "stream",
     "text": [
      "enter number4\n",
      "enter the position of cler bit\n",
      "2\n",
      "0\n"
     ]
    }
   ],
   
   "source": [
    "# write a program to get lowest set bit of a number\n",
    "binary_num=list()\n",
    "num=int(input(\"enter decimal number\\n\"))\n",
    "for i in range(0,8):\n",
    "    shift=num>>i #code to check value of last bit and append 1 or 0 to list make binary number\n",
    "    if shift&1:\n",
    "        binary_num.append(1)\n",
    "    else:\n",
    "        binary_num.append(0)   \n",
    "print(\"lowest set bit of {} is:{} \".format(num,binary_num[0]))\n",
    "print(\"heigest set bit of {} is:{} \".format(num,binary_num[-1]))"
   ]
  },
  {
   "cell_type": "code",
   "execution_count": 6,
   "metadata": {},
   "outputs": [
    {
     "name": "stdout",
     "output_type": "stream",
     "text": [
      "enter number\n",
      "3\n",
      "enter shifted positions\n",
      "4\n",
      "left shift:  48\n",
      "right shift:  0\n"
     ]
    }
   ],
   "source": [
    "# Write a program to rotate bits of a given number.\n",
    "\n",
    "\n",
    "num=int(input(\"enter number\\n\"))\n",
    "n=int(input(\"enter shifted positions\\n\"))\n",
    "shift=shift1=num # assigning num to shift,shift1 because of do not distrub the original value\n",
    "# left shift\n",
    "for i in range(1,9):\n",
    "    if i<n+1:\n",
    "        shift=shift<<1\n",
    "        \n",
    "print(\"left shift: \",shift)\n",
    "\n",
    "# right shift\n",
    "\n",
    "for j in range(-1,-9,-1):\n",
    "    if j>-(n+1):\n",
    "        shift1=shift1>>1\n",
    "        \n",
    "print(\"right shift: \",shift1)"
   ]
  },
  {
   "cell_type": "code",
   "execution_count": null,
   "metadata": {},
   "outputs": [],
   "source": []
  },
  {
   "cell_type": "markdown",
   "metadata": {},
   "source": []
  }
 ],
 "metadata": {
  "kernelspec": {
   "display_name": "Python 3",
   "language": "python",
   "name": "python3"
  },
  "language_info": {
   "codemirror_mode": {
    "name": "ipython",
    "version": 3
   },
   "file_extension": ".py",
   "mimetype": "text/x-python",
   "name": "python",
   "nbconvert_exporter": "python",
   "pygments_lexer": "ipython3",
   "version": "3.6.5"
  }
 },
 "nbformat": 4,
 "nbformat_minor": 2
}
