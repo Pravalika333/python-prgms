{
 "cells": [
  {
   "cell_type": "code",
   "execution_count": 4,
   "metadata": {},
   "outputs": [
    {
     "name": "stdout",
     "output_type": "stream",
     "text": [
      "0101,1010,1000\n",
      "0101,1010\n"
     ]
    }
   ],
   "source": [
    "#write an prgm which accepts a sequence of comma seperated 4 digit binary numbers as its input and then check whether they r divisible by 5 or not\n",
    "\n",
    "items=[]\n",
    "num=[x for x in input().split(',')]\n",
    "for p in num:\n",
    "    x=int(p,2)\n",
    "    if x%5==0:\n",
    "        items.append(p)\n",
    "print(\",\".join(items))"
   ]
  },
  {
   "cell_type": "code",
   "execution_count": 11,
   "metadata": {},
   "outputs": [
    {
     "name": "stdout",
     "output_type": "stream",
     "text": [
      "enter number4\n",
      "00000100"
     ]
    }
   ],
   "source": [
    "#write prgm to convert decimal to binary number sysytem using bitwise operator\n",
    "binary_num=list()\n",
    "decimal_num=int(input(\"enter number\"))\n",
    "for i in range(0,8):\n",
    "    shift=decimal_num>>i #code to check value of last bit and append 1 or 0 to list make binary number\n",
    "    if shift&1:\n",
    "        binary_num.append(1)\n",
    "    else:\n",
    "        binary_num.append(0)\n",
    "for j in range(-1,-9,-1):\n",
    "    print(binary_num[j],end=\"\")"
   ]
  },
  {
   "cell_type": "code",
   "execution_count": 2,
   "metadata": {},
   "outputs": [
    {
     "name": "stdout",
     "output_type": "stream",
     "text": [
      "enter number3\n",
      "00000011\n",
      " 6  0's and 2  1's in given 8bit binary number \n"
     ]
    }
   ],
   "source": [
    "#Write a program to count total zeros and ones in a binary number.\n",
    "count_zero=0\n",
    "count_one=0\n",
    "binary_num=list()\n",
    "decimal_num= int(input(\"enter number\"))\n",
    "\n",
    "# function to convert decimal to binary\n",
    "def decimal_binary(decimal_num):\n",
    "    for i in range(0,8):\n",
    "        shift=decimal_num>>i  # code to check value of last bit and append 1 or 0 to list make biary number\n",
    "        if shift&1:\n",
    "            binary_num.append(1)\n",
    "        else:\n",
    "            binary_num.append(0)\n",
    "    return binary_num.reverse()\n",
    "\n",
    "decimal_binary(decimal_num) # function call\n",
    "for j in range(0,8):\n",
    "       print(binary_num[j],end=\"\")\n",
    "length=len(binary_num)\n",
    "for i in range(0,length): # loop to count zeros  and ones\n",
    "    if binary_num[i]==1:\n",
    "        count_one=count_one+1\n",
    "    else:\n",
    "        count_zero=count_zero+1\n",
    "print(\"\\n {}  0's and {}  1's in given 8bit binary number \".format(count_zero,count_one))"
   ]
  },
  {
   "cell_type": "code",
   "execution_count": null,
   "metadata": {},
   "outputs": [],
   "source": [
    "#Write a program to toggle nth bit of a number\n",
    "\n",
    "\n",
    "\n",
    "num=int(input(\" number\")) \n",
    "n =int(input(\"position of bit to toggle\")) \n",
    "print(\"result after toggling\")  \n",
    "print(num ^ (1 << (n - 1))) # xor with the position bit to toggle"
   ]
  },
  {
   "cell_type": "code",
   "execution_count": 1,
   "metadata": {},
   "outputs": [
    {
     "name": "stdout",
     "output_type": "stream",
     "text": [
      "enter number3\n",
      "00000011\n",
      " after fliping \n",
      "\n",
      "11111100"
     ]
    }
   ],
   "source": [
    "#Write a program to flip bits of a binary number using bitwise operator.\n",
    "\n",
    "decimal_num= int(input(\"enter number\"))\n",
    "binary_num=[]\n",
    "flip_num=[]\n",
    "# function to convert decimal to binary\n",
    "def decimal_binary(decimal_num):\n",
    "    for i in range(0,8):\n",
    "        shift=decimal_num>>i  # code to check value of last bit and append 1 or 0 to list make biary number\n",
    "        if shift&1:\n",
    "            binary_num.append(1)\n",
    "        else:\n",
    "            binary_num.append(0)\n",
    "    return binary_num.reverse()\n",
    "\n",
    "# function to flip bits\n",
    "def flip_binary(decimal_num):\n",
    "    for i in range(0,8):\n",
    "        shift=decimal_num>>i  # code to check value of last bit and flip it \n",
    "        if shift&1:\n",
    "            flip_num.append(0)\n",
    "        else:\n",
    "            flip_num.append(1)\n",
    "    return flip_num.reverse()\n",
    "decimal_binary(decimal_num) # function call to decimal_binary\n",
    "for j in range(0,8):\n",
    "       print(binary_num[j],end=\"\")\n",
    "\n",
    "print(\"\\n after fliping \\n\")\n",
    "flip_binary(decimal_num) # fucntion call to flip bits\n",
    "for j in range(0,8):\n",
    "       print(flip_num[j],end=\"\")"
   ]
  },
  {
   "cell_type": "code",
   "execution_count": null,
   "metadata": {},
   "outputs": [],
   "source": [
    "#Write a program to count leading zeros in a binary number.\n",
    "\n",
    "\n",
    "count_zero=0\n",
    "binary_num=list()\n",
    "decimal_num= int(input(\"enter number\"))\n",
    "\n",
    "# function to convert decimal to binary\n",
    "def decimal_binary(decimal_num):\n",
    "    for i in range(0,8):\n",
    "        shift=decimal_num>>i  # code to check value of last bit and append 1 or 0 to list make biary number\n",
    "        if shift&1:\n",
    "            binary_num.append(1)\n",
    "        else:\n",
    "            binary_num.append(0)\n",
    "    return binary_num.reverse()\n",
    "\n",
    "decimal_binary(decimal_num) # function call\n",
    "for j in range(0,8):\n",
    "       print(binary_num[j],end=\"\")\n",
    "length=len(binary_num)\n",
    "for i in range(0,length): # loop to count leading zeros \n",
    "    if binary_num[i]==1:\n",
    "        break;\n",
    "    else:\n",
    "        count_zero=count_zero+1\n",
    "print(\"\\n {} leading zeros \".format(count_zero))"
   ]
  }
 ],
 "metadata": {
  "kernelspec": {
   "display_name": "Python 3",
   "language": "python",
   "name": "python3"
  },
  "language_info": {
   "codemirror_mode": {
    "name": "ipython",
    "version": 3
   },
   "file_extension": ".py",
   "mimetype": "text/x-python",
   "name": "python",
   "nbconvert_exporter": "python",
   "pygments_lexer": "ipython3",
   "version": "3.6.5"
  }
 },
 "nbformat": 4,
 "nbformat_minor": 2
}
