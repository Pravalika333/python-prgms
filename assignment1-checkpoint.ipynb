{
 "cells": [
  {
   "cell_type": "code",
   "execution_count": 3,
   "metadata": {},
   "outputs": [
    {
     "name": "stdout",
     "output_type": "stream",
     "text": [
      "enter first number54\n",
      "enter second number24\n",
      "6\n"
     ]
    }
   ],
   "source": [
    "#write a program to find the GCD or HCF of any number\n",
    "import math\n",
    "x=int(input(\"enter first number\"))\n",
    "y=int(input(\"enter second number\"))\n",
    "p=math.gcd(x,y)\n",
    "print(p)"
   ]
  },
  {
   "cell_type": "code",
   "execution_count": 4,
   "metadata": {},
   "outputs": [
    {
     "name": "stdout",
     "output_type": "stream",
     "text": [
      "enter first number5\n",
      "enter second number3\n",
      "enter third number2\n",
      "x is greater than y\n"
     ]
    }
   ],
   "source": [
    "# 114. Write a program to find maximum between three numbers using conditional operator\n",
    "#conditional operator=variable = Expression1 ? Expression2 : Expression3\n",
    "\n",
    "a=int(input(\"enter first number\"))\n",
    "b=int(input(\"enter second number\"))\n",
    "c=int(input(\"enter third number\"))\n",
    "if (a > b and a > c):\n",
    "    print(\"a is greater than both b and c\")\n",
    "elif (b > a and b > c):\n",
    "    print(\"b is greater than both a and c\")\n",
    "elif (c > a and c > b):\n",
    "    print(\"c is greater than both b and a\")\n",
    "else:\n",
    "    print(\"Either any two values or all the three values are equal\")\n",
    "  "
   ]
  },
  {
   "cell_type": "code",
   "execution_count": 7,
   "metadata": {},
   "outputs": [
    {
     "name": "stdout",
     "output_type": "stream",
     "text": [
      "enter first number5\n",
      "enter second number6\n",
      "y is greater than x\n",
      "enter first number6\n",
      "enter second number4\n"
     ]
    },
    {
     "data": {
      "text/plain": [
       "6"
      ]
     },
     "execution_count": 7,
     "metadata": {},
     "output_type": "execute_result"
    }
   ],
   "source": [
    "# 117. Write a program to find maximum between two numbers with/without using conditional operator.\n",
    "\n",
    "#with using conditional operator.\n",
    "\n",
    "x=int(input(\"enter first number\"))\n",
    "y=int(input(\"enter second number\"))\n",
    "if x>y:\n",
    "    print(\"x is greater than y\")\n",
    "elif y>x:\n",
    "    print(\"y is greater than x\")\n",
    "else:\n",
    "    print(\"Both x and y are Equal\")\n",
    "    \n",
    "#without using conditional operator.\n",
    "\n",
    "x=int(input(\"enter first number\"))\n",
    "y=int(input(\"enter second number\"))\n",
    "lst=[x,y]\n",
    "max(lst)"
   ]
  },
  {
   "cell_type": "code",
   "execution_count": 9,
   "metadata": {},
   "outputs": [
    {
     "name": "stdout",
     "output_type": "stream",
     "text": [
      "enter first number5\n",
      "enter second number4\n",
      "enter third number3\n",
      "a is greater than both b and c\n"
     ]
    }
   ],
   "source": [
    "a=int(input(\"enter first number\"))\n",
    "b=int(input(\"enter second number\"))\n",
    "c=int(input(\"enter third number\"))\n",
    "if (a > b and a > c):\n",
    "    print(\"a is greater than both b and c\")\n",
    "elif (b > a and b > c):\n",
    "    print(\"b is greater than both a and c\")\n",
    "elif (c > a and c > b):\n",
    "    print(\"c is greater than both b and a\")\n",
    "else:\n",
    "    print(\"Either any two values or all the three values are equal\")"
   ]
  },
  {
   "cell_type": "code",
   "execution_count": 21,
   "metadata": {},
   "outputs": [
    {
     "name": "stdout",
     "output_type": "stream",
     "text": [
      "Please Enter the Year Number you wish: 2500\n",
      "2500 is not a Leap Year\n"
     ]
    }
   ],
   "source": [
    "#https://www.codespeedy.com/wp-content/uploads/2019/01/leap-year-python-identify.jpg#Write a program to check whether year is leap year or not using conditional operator.\n",
    "year = int(input(\"Please Enter the Year Number you wish: \"))\n",
    "if year % 4 == 0 and year % 100 != 0:\n",
    "    print(year, \"is a Leap Year\")\n",
    "elif year % 100 == 0:\n",
    "    print(year, \"is not a Leap Year\")\n",
    "elif year % 400 ==0:\n",
    "    print(year, \"is a Leap Year\")\n",
    "else:\n",
    "    print(year, \"is not a Leap Year\")"
   ]
  },
  {
   "cell_type": "code",
   "execution_count": 2,
   "metadata": {},
   "outputs": [
    {
     "name": "stdout",
     "output_type": "stream",
     "text": [
      "Please Enter Your Own Character : a\n",
      "The Given Character  a is an Alphabet\n"
     ]
    }
   ],
   "source": [
    "#Write a program to check whether character is an alphabet or not using conditional operator.\n",
    "ch = input(\"Please Enter Your Own Character : \")\n",
    "if((ch >= 'a' and ch <= 'z') or (ch >= 'A' and ch <= 'Z')):\n",
    "    print(\"The Given Character \", ch, \"is an Alphabet\")\n",
    "else:\n",
    "    print(\"The Given Character \", ch, \"is Not an Alphabet\")"
   ]
  },
  {
   "cell_type": "code",
   "execution_count": 17,
   "metadata": {},
   "outputs": [
    {
     "name": "stdout",
     "output_type": "stream",
     "text": [
      " Please Enter the First Value a: 5\n",
      " Please Enter the Second Value b: 4\n",
      "Before Swapping two Number: a = 5 and b = 4\n",
      "After Swapping two Number: a = 4 and b = 5\n"
     ]
    }
   ],
   "source": [
    "# 118. Write a program to swap two numbers using bitwise operator.\n",
    "a = int(input(\" Please Enter the First Value a: \"))\n",
    "b = int(input(\" Please Enter the Second Value b: \"))\n",
    "\n",
    "print(\"Before Swapping two Number: a = {0} and b = {1}\".format(a, b))\n",
    "\n",
    "a = a ^ b\n",
    "b = a ^ b\n",
    "a = a ^ b\n",
    "\n",
    "print(\"After Swapping two Number: a = {0} and b = {1}\".format(a, b))"
   ]
  },
  {
   "cell_type": "code",
   "execution_count": 13,
   "metadata": {},
   "outputs": [
    {
     "name": "stdout",
     "output_type": "stream",
     "text": [
      "Please Enter a Number4\n",
      "This Number is Even\n"
     ]
    }
   ],
   "source": [
    "# 120. Write a program to check whether a number is even or odd using BITWISE operator.& is like multiplication 0*1=0; 1*0=0 and convert to binary\n",
    "a=int(input(\"Please Enter a Number\"))\n",
    "if(a&1==1):  \n",
    "    print(\"This Number is Odd\")    \n",
    "else:  \n",
    "    print(\"This Number is Even\") "
   ]
  },
  {
   "cell_type": "code",
   "execution_count": 1,
   "metadata": {},
   "outputs": [
    {
     "name": "stdout",
     "output_type": "stream",
     "text": [
      " Please Enter any Integer Value5\n",
      "is an Odd Number\n"
     ]
    }
   ],
   "source": [
    "# 119. Write a program to check whether a number is even or odd using conditional operator\n",
    "\n",
    "number = int(input(\" Please Enter any Integer Value\"))\n",
    "\n",
    "if(number % 2 == 0):\n",
    "    print(\"is an Even Number\")\n",
    "else:\n",
    "    print(\"is an Odd Number\")\n"
   ]
  },
  {
   "cell_type": "code",
   "execution_count": null,
   "metadata": {},
   "outputs": [],
   "source": [
    "\n"
   ]
  },
  {
   "cell_type": "code",
   "execution_count": null,
   "metadata": {},
   "outputs": [],
   "source": [
    "#prgms:\n",
    "#To find prime numbers upto 100:\n",
    "Number = 1\n",
    "\n",
    "while(Number <= 100):\n",
    "    count = 0\n",
    "    i = 2\n",
    "    \n",
    "    while(i <= Number//2):\n",
    "        if(Number % i == 0):\n",
    "            count = count + 1\n",
    "            break\n",
    "        i = i + 1\n",
    "\n",
    "    if (count == 0 and Number != 1):\n",
    "        print(Number, end=\",\")\n",
    "    Number = Number  + 1\n",
    "\n",
    "\n",
    "\n",
    "       "
   ]
  },
  {
   "cell_type": "code",
   "execution_count": null,
   "metadata": {},
   "outputs": [],
   "source": [
    "#windows prgm\n",
    "window=list(range(0,1000))\n",
    "for x in range(0,1000):\n",
    "    window[x]=0#windows closed initially #range=list(range(0,1000))\n",
    "for s in range(1,1001):\n",
    "    for w in range(1,1001):\n",
    "        if w%s==0:#checking for multiples of w and open windows\n",
    "            if window[w-1]==0:\n",
    "                window[w-1]=1\n",
    "            else:\n",
    "                window[w-1]=0\n",
    "        else:\n",
    "                pass\n",
    "count=0\n",
    "print(\"open window are\")\n",
    "for i in range(0,1000):\n",
    "    if window[i]==1:\n",
    "        count=count+1\n",
    "        print(i+1)\n",
    "print(\"total no of open windows are\",count)"
   ]
  },
  {
   "cell_type": "code",
   "execution_count": 35,
   "metadata": {
    "scrolled": true
   },
   "outputs": [
    {
     "name": "stdout",
     "output_type": "stream",
     "text": [
      "[1, 2, 3]\n"
     ]
    }
   ],
   "source": [
    "#135. Create a list and remove last element from it.pop indicates index and remove indiactes the value\n",
    "list1=[1,2,3,4]\n",
    "list1.pop(3)\n",
    "#list1.remove(4)\n",
    "print(list1)"
   ]
  },
  {
   "cell_type": "code",
   "execution_count": null,
   "metadata": {},
   "outputs": [],
   "source": [
    "#134. Print all 3 multiples from 1 to 100 using for while loop.\n",
    "number=3\n",
    "i=1\n",
    "while i<=100:\n",
    "    print(i*3,end=\",\")\n",
    "    i=i+1"
   ]
  },
  {
   "cell_type": "code",
   "execution_count": null,
   "metadata": {},
   "outputs": [],
   "source": [
    "#Create a tuple (1,2,3,4,5,6), then remove element 5 from it.\n",
    "k=(1,2,3,4,5,6)\n",
    "v=list(k)\n",
    "print(v)\n",
    "v.pop(4)\n",
    "print(v)\n",
    "#v.remove(3)\n",
    "#print(v)\n",
    "k=tuple(v)\n",
    "print(k)"
   ]
  },
  {
   "cell_type": "code",
   "execution_count": null,
   "metadata": {},
   "outputs": [],
   "source": [
    "#Print all 3 multiples from 1 to 100 using for loop.\n",
    "#for i in range(1,101):\n",
    "#    if i%3==0:\n",
          "print(i)"
   ]
  },
  {
   "cell_type": "code",
   "execution_count": 47,
   "metadata": {},
   "outputs": [
    {
     "name": "stdout",
     "output_type": "stream",
     "text": [
      "[3, 4, 2020, 5, 7, 8]\n"
     ]
    }
   ],
   "source": [
    "#Create a list with 5 elements, then insert 2020 at index 2.\n",
    "list1=[3,4,5,7,8]\n",
    "list1.insert(2,2020)\n",
    "print(list1)"
   ]
  },
  {
   "cell_type": "code",
   "execution_count": 48,
   "metadata": {},
   "outputs": [
    {
     "name": "stdout",
     "output_type": "stream",
     "text": [
      "{1: 2, 2: 3, 3: 4}\n"
     ]
    }
   ],
   "source": [
    "#Create a dictionary with following tuples (1,2), (2,3), (3,4)\n",
    "tuple1=((1,2),(2,3),(3,4))\n",
    "dict1=dict(tuple1)\n",
    "print(dict1)"
   ]
  },
  {
   "cell_type": "code",
   "execution_count": 55,
   "metadata": {},
   "outputs": [
    {
     "name": "stdout",
     "output_type": "stream",
     "text": [
      "[9, 8, 7, 6, 5, 4, 3, 2, 1]\n"
     ]
    }
   ],
   "source": [
    "#List1=[1,2,3,4,5,6,7,8,9], reverse the list in single line code\n",
    "list2=[1,2,3,4,5,6,7,8,9]\n",
    "list2.reverse()\n",
    "print(list2)\n",
    "#list2[::-1]"
   ]
  },
  {
   "cell_type": "code",
   "execution_count": 1,
   "metadata": {},
   "outputs": [
    {
     "data": {
      "text/plain": [
       "[2, 4, 6, 8, 10, 12, 14, 16, 18, 20]"
      ]
     },
     "execution_count": 1,
     "metadata": {},
     "output_type": "execute_result"
    }
   ],
   "source": [
    "#Write code create a list of even numbers (2 to 20) with list comprehension\n",
    "[h for h in range(2,21) if h%2==0]"
   ]
  },
  {
   "cell_type": "code",
   "execution_count": 2,
   "metadata": {},
   "outputs": [
    {
     "name": "stdout",
     "output_type": "stream",
     "text": [
      "enter student marks\n",
      "50\n",
      "you are passed in third class\n"
     ]
    }
   ],
   "source": [
    "#  Take input as student marks (0,100) and return if the student is distinction or first class or second class or third class or fail (Marks>70 distinction, 70>marks>60 first class, 60>marks>50 second class, 50>marks>40 third class, marks<40 fail.\n",
    "\n",
    "marks=int(input(\"enter student marks\\n\"))\n",
    "if 100>=marks>=0:\n",
    "    if marks>70:\n",
    "        print(\"you are passed in distinction\")\n",
    "    elif 70>=marks>60:\n",
    "        print(\"you are passed in first class\")\n",
    "    elif 60>=marks>50:\n",
    "        print(\"you are passed in second class\")   \n",
    "    elif 50>=marks>40:\n",
    "        print(\"you are passed in third class\")\n",
    "    elif marks<=40:\n",
    "        print(\"you are fail\")\n",
    "    else:\n",
    "        print(\"enter marks between 0 to 100\")"
   ]
  },
  {
   "cell_type": "code",
   "execution_count": 3,
   "metadata": {},
   "outputs": [
    {
     "name": "stdout",
     "output_type": "stream",
     "text": [
      "{1: 1, 2: 4, 3: 9, 4: 16, 5: 25, 6: 36, 7: 49, 8: 64, 9: 81, 10: 100, 11: 121, 12: 144, 13: 169, 14: 196, 15: 225, 16: 256, 17: 289, 18: 324, 19: 361, 20: 400}\n",
      "{1: 1, 2: 4, 3: 9, 4: 16, 5: 25, 6: 36, 7: 49, 8: 64, 9: 81, 10: 100, 11: 121, 12: 144, 13: 169, 14: 196, 15: 225, 16: 256, 17: 289, 18: 324, 19: 361, 20: 400}\n"
     ]
    }
   ],
   "source": [
    "# Define a function which can generate a dictionary where the keys are numbers between 1 and 20 (both included)\n",
    "# and the values are square of keys.The function should print all key/value combinations.\n",
    "#using dictionary comprehension\n",
    "def list1():\n",
    "    a={k:k*k for k in range(1,21)}\n",
    "    print(a)\n",
    "list1()\n",
    "\n",
    "# using for loop    \n",
    "def dict1():\n",
    "    d=dict()\n",
    "    for x in range(1,21):\n",
    "        d[x]=x**2\n",
    "    print(d)\n",
    "\n",
    "dict1()\n"
   ]
  },
  {
   "cell_type": "code",
   "execution_count": null,
   "metadata": {},
   "outputs": [],
   "source": []
  }
 ],
 "metadata": {
  "kernelspec": {
   "display_name": "Python 3",
   "language": "python",
   "name": "python3"
  },
  "language_info": {
   "codemirror_mode": {
    "name": "ipython",
    "version": 3
   },
   "file_extension": ".py",
   "mimetype": "text/x-python",
   "name": "python",
   "nbconvert_exporter": "python",
   "pygments_lexer": "ipython3",
   "version": "3.6.5"
  }
 },
 "nbformat": 4,
 "nbformat_minor": 2
}
