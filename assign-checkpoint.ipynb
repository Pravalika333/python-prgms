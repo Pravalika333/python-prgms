{
 "cells": [
  {
   "cell_type": "code",
   "execution_count": 11,
   "metadata": {},
   "outputs": [
    {
     "name": "stdout",
     "output_type": "stream",
     "text": [
      "found at 5\n"
     ]
    }
   ],
   "source": [
    "#linear search using while loop:\n",
    "position=-1\n",
    "def search(l1,n):\n",
    "    i=0\n",
    "    while i<len(l1):\n",
    "        if l1[i]==n:\n",
    "            globals()[\"position\"]=i\n",
    "            return True\n",
    "        i=i+1\n",
    "    return False\n",
    "            \n",
    "            \n",
    "\n",
    "l1=[1,2,6,7,9,3]\n",
    "n=9\n",
    "if search(l1,n):\n",
    "    print(\"found at\",position+1)\n",
    "else:\n",
    "    print(\"not found\")"
   ]
  },
  {
   "cell_type": "code",
   "execution_count": 12,
   "metadata": {},
   "outputs": [
    {
     "name": "stdout",
     "output_type": "stream",
     "text": [
      "found at 6\n"
     ]
    }
   ],
   "source": [
    "#linear search using for loop:\n",
    "position=-1\n",
    "def search(l1,n):\n",
    "    for i in range(len(l1)):\n",
    "        if l1[i]==n:\n",
    "            globals()[\"position\"]=i\n",
    "            return True\n",
    "    return False\n",
    "            \n",
    "            \n",
    "\n",
    "l1=[1,2,6,7,9,3]\n",
    "n=3\n",
    "if search(l1,n):\n",
    "    print(\"found at\",position+1)\n",
    "else:\n",
    "    print(\"not found\")"
   ]
  },
  {
   "cell_type": "code",
   "execution_count": 59,
   "metadata": {},
   "outputs": [
    {
     "name": "stdout",
     "output_type": "stream",
     "text": [
      "found at 7\n"
     ]
    }
   ],
   "source": [
    "#Binary Search:if n>mid change lower or else upper\n",
    "#Please write a binary search function which searches an item in a sorted list. The function should return the index of element to be searched in the list.\n",
    "\n",
    "position=-1\n",
    "def search(list,n):\n",
    "    l=0\n",
    "    u=len(list)-1\n",
    "    while l<=u:\n",
    "        mid=l+u//2\n",
    "        if list[mid]==n:\n",
    "            globals()[\"position\"]=mid\n",
    "            return True\n",
    "        else:\n",
    "            if list[mid]<n:\n",
    "                l=mid+1\n",
    "            else:\n",
    "                u=mid-1\n",
    "    return False\n",
    "\n",
    "\n",
    "list=[22,34,57,89,90,1099,234,45677]\n",
    "\n",
    "n=45677\n",
    "if search(list,n):\n",
    "    print(\"found at\",position)\n",
    "else:\n",
    "    print(\"not found\")\n",
    "\n",
    "    "
   ]
  },
  {
   "cell_type": "code",
   "execution_count": 4,
   "metadata": {},
   "outputs": [
    {
     "name": "stdout",
     "output_type": "stream",
     "text": [
      "[1, 2, 4, 6, 8, 9]\n"
     ]
    }
   ],
   "source": [
    "#Bubble Sort:\n",
    "def sort(nums):\n",
    "    for i in range(len(nums)-1,0,-1):\n",
    "        for j in range(i):\n",
    "            if nums[j]>nums[j+1]:#for ascending > ; for descending <\n",
    "                temp=nums[j]\n",
    "                nums[j]=nums[j+1]\n",
    "                nums[j+1]=temp\n",
    "                    \n",
    "    \n",
    "nums=[8,4,6,2,9,1]\n",
    "sort(nums)\n",
    "print(nums)"
   ]
  },
  {
   "cell_type": "code",
   "execution_count": 18,
   "metadata": {},
   "outputs": [
    {
     "name": "stdout",
     "output_type": "stream",
     "text": [
      "[1, 4, 6, 2, 9, 8]\n",
      "[1, 2, 6, 4, 9, 8]\n",
      "[1, 2, 4, 6, 9, 8]\n",
      "[1, 2, 4, 6, 9, 8]\n",
      "[1, 2, 4, 6, 8, 9]\n",
      "[1, 2, 4, 6, 8, 9]\n"
     ]
    }
   ],
   "source": [
    "#selection sort:\n",
    "\n",
    "def sort(num):\n",
    "    for i in range(5):\n",
    "        minpos=i#minimum value\n",
    "        for j in range(i,6):\n",
    "            if num[j]<num[minpos]:\n",
    "                minpos=j\n",
    "        temp=num[i]\n",
    "        num[i]=num[minpos]\n",
    "        num[minpos]=temp\n",
    "        print(num)\n",
    "\n",
    "    \n",
    "num=[8,4,6,2,9,1]\n",
    "sort(num)\n",
    "print(num)"
   ]
  },
  {
   "cell_type": "code",
   "execution_count": 7,
   "metadata": {
    "scrolled": true
   },
   "outputs": [
    {
     "name": "stdout",
     "output_type": "stream",
     "text": [
      "prime numbers b/w 100 and 200 are:\n",
      "101 103 107 109 113 127 131 137 139 149 151 157 163 167 173 179 181 191 193 197 199 "
     ]
    }
   ],
   "source": [
    "#prime numbers between 100 and 200:\n",
    "min=100\n",
    "max=200\n",
    "print(\"prime numbers b/w\", min, \"and\", max, \"are:\")\n",
    "for i in range(min,max+1):\n",
    "    if i>1:\n",
    "        for num in range(2,i):\n",
    "            if i%num==0:\n",
    "                break\n",
    "        else:\n",
    "            print(i,end=\" \")#i is prime,num are not prime"
   ]
  },
  {
   "cell_type": "code",
   "execution_count": 76,
   "metadata": {},
   "outputs": [
    {
     "name": "stdout",
     "output_type": "stream",
     "text": [
      "the gcd of 2 numbers:  6\n"
     ]
    },
    {
     "data": {
      "text/plain": [
       "6"
      ]
     },
     "execution_count": 76,
     "metadata": {},
     "output_type": "execute_result"
    }
   ],
   "source": [
    "#write a program to find the GCD or HCF of any number\n",
    "#algorithm: we divide the greater by smaller and take the remainder. now the smaller number divide by remainder. repate until the remandrer is 0\n",
    "#54/24=remainder is 6 and 24/6(remainder)=0\n",
    "def gcd(x,y):\n",
    "    if x>y:\n",
    "        smaller=y\n",
    "    else:\n",
    "        smaller=x\n",
    "    for i in range(1,smaller+1):\n",
    "        if x%i==0 and y%i==0:\n",
    "            gc=i\n",
    "    return gc\n",
    "\n",
    "num1=24\n",
    "num2=54\n",
    "print(\"the gcd of 2 numbers: \",gcd(num1,num2))\n",
    "\n",
    "#or\n",
    "def gcd(x,y):\n",
    "    while(y):\n",
    "        x,y=y,x%y\n",
    "    return x\n",
    "gcd(24,54)\n",
    "\n"
   ]
  },
  {
   "cell_type": "code",
   "execution_count": 4,
   "metadata": {},
   "outputs": [
    {
     "name": "stdout",
     "output_type": "stream",
     "text": [
      "enter the number 54\n",
      "enter the number1 24\n",
      "lcm is: 216\n"
     ]
    },
    {
     "data": {
      "text/plain": [
       "216"
      ]
     },
     "execution_count": 4,
     "metadata": {},
     "output_type": "execute_result"
    }
   ],
   "source": [
    "#find lcm of any number:\n",
    "def comp(x,y):\n",
    "    if x>y:\n",
    "        greater=x\n",
    "    else:\n",
    "        greater=y\n",
    "        \n",
    "    while True:\n",
    "        if greater%x==0 and greater%y==0:\n",
    "            lcm=greater\n",
    "            break\n",
    "        greater=greater+1\n",
    "    return lcm \n",
    "\n",
    "comp(54,24)\n",
    "\n",
    "#or\n",
    "\n",
    "a=int(input(\"enter the number \"))\n",
    "b=int(input(\"enter the number1 \"))\n",
    "for i in range(1,a*b+1):\n",
    "    if i%a==0 and i%b==0:\n",
    "        print(\"lcm is:\",i)\n",
    "        break\n",
    "        \n",
    "#using gcd we can compute lcm:\n",
    "\n",
    "def gcd(x,y):\n",
    "    while(y):\n",
    "        x,y=y,x%y\n",
    "    return x\n",
    "gcd(24,54)\n",
    "\n",
    "\n",
    "def lcm(x,y):\n",
    "    b=(x*y)//gcd(x,y)\n",
    "    return b\n",
    "\n",
    "lcm(54,24)"
   ]
  },
  {
   "cell_type": "code",
   "execution_count": 19,
   "metadata": {},
   "outputs": [
    {
     "name": "stdout",
     "output_type": "stream",
     "text": [
      "35\n"
     ]
    }
   ],
   "source": [
    "#Define a function that can accept two strings as input and concatenate them and then print it in console.\t\n",
    "def str(x,y):\n",
    "    c=x+y\n",
    "    print(c)\n",
    "str(\"3\",\"5\")"
   ]
  },
  {
   "cell_type": "code",
   "execution_count": 84,
   "metadata": {},
   "outputs": [
    {
     "name": "stdout",
     "output_type": "stream",
     "text": [
      "[256, 289, 324, 361, 400]\n"
     ]
    }
   ],
   "source": [
    "#Define a function which can generate a list where the values are square of numbers between 1 and 20 (both included). Then the function needs to print the last 5 elements in the list.\n",
    "def sqr():\n",
    "    l=list()\n",
    "    for i in range(1,21):\n",
    "        l.append(i**2)\n",
    "    print(l[-5:])\n",
    "    \n",
    "sqr()"
   ]
  },
  {
   "cell_type": "code",
   "execution_count": 92,
   "metadata": {},
   "outputs": [
    {
     "name": "stdout",
     "output_type": "stream",
     "text": [
      "[1, 4, 9, 16, 25, 36, 49, 64, 81, 100, 121, 144, 169, 196, 225, 256, 289, 324, 361, 400]\n",
      "[36, 49, 64, 81, 100, 121, 144, 169, 196, 225, 256, 289, 324, 361, 400]\n"
     ]
    }
   ],
   "source": [
    "#Define a function which can generate a list where the values are square of numbers between 1 and 20 (both included). Then the function needs to print all values except the first 5 elements in the list.\n",
    "def sq():\n",
    "    list3=[]\n",
    "    for i in range(1,21):\n",
    "        list3.append(i**2)\n",
    "    print(list3)\n",
    "    print(list3[5:])\n",
    "    \n",
    "sq()"
   ]
  },
  {
   "cell_type": "code",
   "execution_count": 6,
   "metadata": {},
   "outputs": [
    {
     "name": "stdout",
     "output_type": "stream",
     "text": [
      "(1, 4, 9, 16, 25, 36, 49, 64, 81, 100, 121, 144, 169, 196, 225, 256, 289, 324, 361, 400)\n"
     ]
    }
   ],
   "source": [
    "#Define a function which can generate and print a tuple where the value are square of numbers between 1 and 20 (both included).\n",
    "def sqr():\n",
    "    l=[]\n",
    "    for i in range(1,21):\n",
    "        l.append(i**2)\n",
    "    return l\n",
    "\n",
    "print(tuple(sqr()))"
   ]
  },
  {
   "cell_type": "code",
   "execution_count": 93,
   "metadata": {},
   "outputs": [
    {
     "name": "stdout",
     "output_type": "stream",
     "text": [
      "[1, 4, 9, 16, 25, 36, 49, 64, 81, 100, 121, 144, 169, 196, 225, 256, 289, 324, 361, 400]\n",
      "[1, 4, 9, 16, 25, 36]\n"
     ]
    }
   ],
   "source": [
    "#Define a function which can generate a list where the values are square of numbers between 1 and 20 (both included). Then the function needs to print the first 5 elements in the list.\n",
    "def sq():\n",
    "    list3=[]\n",
    "    for i in range(1,21):\n",
    "        list3.append(i**2)\n",
    "    print(list3)\n",
    "    print(list3[:5])\n",
    "    \n",
    "sq()"
   ]
  },
  {
   "cell_type": "code",
   "execution_count": 17,
   "metadata": {},
   "outputs": [
    {
     "name": "stdout",
     "output_type": "stream",
     "text": [
      "enter the string 5 dol 6 toy\n"
     ]
    },
    {
     "data": {
      "text/plain": [
       "['5', '6']"
      ]
     },
     "execution_count": 17,
     "metadata": {},
     "output_type": "execute_result"
    }
   ],
   "source": [
    "#Write a program which accepts a sequence of words separated by whitespace as input to print the words composed of digits only.\n",
    "import re\n",
    "a=input(\"enter the string \")\n",
    "re.findall(\"\\d\",a)# to find substrings in regular expression"
   ]
  },
  {
   "cell_type": "code",
   "execution_count": 28,
   "metadata": {},
   "outputs": [
    {
     "name": "stdout",
     "output_type": "stream",
     "text": [
      "enter the number 35\n",
      "enter the number1 3\n",
      "38\n"
     ]
    }
   ],
   "source": [
    "#Please write a program which accepts basic mathematic expression from console and print the evaluation result. Example: If the following string is given as input to the program: 35+3 Then, the output of the program should be: 38\n",
    "a=eval(input(\"enter the number \"))\n",
    "b=eval(input(\"enter the number1 \"))\n",
    "c=a+b\n",
    "print(c)"
   ]
  },
  {
   "cell_type": "code",
   "execution_count": 1,
   "metadata": {},
   "outputs": [
    {
     "name": "stdout",
     "output_type": "stream",
     "text": [
      "[24, 35, 70, 155]\n"
     ]
    }
   ],
   "source": [
    "#By using list comprehension, please write a program to print the list after removing the 0th,4th,5th numbers in [12,24,35,70,88,120,155]. Hints: Use list comprehension to delete a bunch of element from a list. Use enumerate() to get (index, value) tuple.\n",
    "\n",
    "l1=[12,24,35,70,88,120,155]\n",
    "b=[x for (i,x) in enumerate(l1) if i not in (0,4,5)]\n",
    "print(b)"
   ]
  },
  {
   "cell_type": "code",
   "execution_count": 19,
   "metadata": {},
   "outputs": [
    {
     "data": {
      "text/plain": [
       "13.186024656472606"
      ]
     },
     "execution_count": 19,
     "metadata": {},
     "output_type": "execute_result"
    }
   ],
   "source": [
    "#Please generate a random float where the value is between 10 and 100 using Python math module.\n",
    "from random import *\n",
    "random()*100"
   ]
  },
  {
   "cell_type": "code",
   "execution_count": 60,
   "metadata": {},
   "outputs": [
    {
     "data": {
      "text/plain": [
       "38.55919518060596"
      ]
     },
     "execution_count": 60,
     "metadata": {},
     "output_type": "execute_result"
    }
   ],
   "source": [
    "#Please generate a random float where the value is between 95 and 100 using Python math module\n",
    "from random import *\n",
    "random()*100-5"
   ]
  },
  {
   "cell_type": "code",
   "execution_count": 32,
   "metadata": {},
   "outputs": [
    {
     "name": "stdout",
     "output_type": "stream",
     "text": [
      "you cannot divide by zero\n",
      "for cleanup\n"
     ]
    }
   ],
   "source": [
    "#Write a function to compute 5/0 and use try/except to catch the exceptions.\n",
    "a=5\n",
    "b=0\n",
    "try :\n",
    "    print(a/b)\n",
    "except ZeroDivisionError as e:\n",
    "    print(\"you cannot divide by zero\")\n",
    "except Exception as err:\n",
    "    print(\"caught an exception\")\n",
    "finally:\n",
    "    print(\"for cleanup\")"
   ]
  },
  {
   "cell_type": "code",
   "execution_count": 39,
   "metadata": {},
   "outputs": [
    {
     "name": "stdout",
     "output_type": "stream",
     "text": [
      "True\n"
     ]
    }
   ],
   "source": [
    "#Please write assert statements to verify that every number in the list [2,4,6,8] is even.\n",
    "\n",
    "def even(l):\n",
    "    for i in l:\n",
    "        assert i%2==0\n",
    "        return True\n",
    "    \n",
    "    \n",
    "    \n",
    "l1=[2,4,6,8]\n",
    "print(even(l1))\n",
    "        "
   ]
  },
  {
   "cell_type": "code",
   "execution_count": 16,
   "metadata": {},
   "outputs": [
    {
     "name": "stdout",
     "output_type": "stream",
     "text": [
      "0\n",
      "2\n",
      "4\n",
      "6\n",
      "8\n",
      "10\n",
      "enter the number10\n",
      "[0, 2, 4, 6, 8, 10]\n",
      "enter the number6\n",
      "[0, 2, 4, 6, 8, 10]\n"
     ]
    }
   ],
   "source": [
    "#Please write a program using generator to print the even numbers between 0 and n in comma separated form while n is input by console. Example: If the following n is given as input to the program: 10 Then, the output of the program should be: 0,2,4,6,8,10\n",
    "def even(n):\n",
    "    i=0\n",
    "    while i<=n:\n",
    "        if i%2==0:\n",
    "            yield i\n",
    "        i=i+1\n",
    "        \n",
    "for i in even(10):\n",
    "    print(i)\n",
    "    \n",
    "#or\n",
    "n=int(input(\"enter the number\"))\n",
    "values = []\n",
    "for i in even(n):\n",
    "    values.append((i))\n",
    "\n",
    "print(values)\n",
    "\n",
    "#another method\n",
    "\n",
    "def f():\n",
    "    n=int(input('enter the number'))\n",
    "    l=[]\n",
    "    for i in range(n):\n",
    "        l.append(i*2)\n",
    "    yield l\n",
    "      \n",
    "for i in f():\n",
    "    print(i)"
   ]
  },
  {
   "cell_type": "code",
   "execution_count": 1,
   "metadata": {},
   "outputs": [
    {
     "name": "stdout",
     "output_type": "stream",
     "text": [
      "enter the stringhello world and practice makes perfect and hello world again\n",
      "None\n",
      "again and hello makes perfect practice world\n"
     ]
    }
   ],
   "source": [
    "#Write a program that accepts a sequence of whitespace separated words as input and prints the words after removing all duplicate words and sorting them alphanumerically. Suppose the following input is supplied to the program: hello world and practice makes perfect and hello world again Then, the output should be: again and hello makes perfect practice world\n",
    "phrase=input(\"enter the string\")\n",
    "b=phrase.split(\" \")\n",
    "w=[]\n",
    "for i in b:\n",
    "    if i not in w:\n",
    "        w.append(i)\n",
    "    else:\n",
    "        continue\n",
    "        \n",
    "print(w.sort())\n",
    "print((\" \").join(w))"
   ]
  },
  {
   "cell_type": "code",
   "execution_count": 40,
   "metadata": {},
   "outputs": [
    {
     "name": "stdout",
     "output_type": "stream",
     "text": [
      "[12, 24, 35, 88, 120, 155]\n"
     ]
    }
   ],
   "source": [
    "#With a given list [12,24,35,24,88,120,155,88,120,155], write a program to print this list after removing all duplicate values with original order reserved.\n",
    "a=[12,24,35,24,88,120,155,88,120,155]\n",
    "\n",
    "dup_items = set()\n",
    "uniq_items = []\n",
    "for x in a:\n",
    "    if x not in dup_items:\n",
    "        uniq_items.append(x)\n",
    "        dup_items.add(x)\n",
    "\n",
    "print(uniq_items)"
   ]
  },
  {
   "cell_type": "code",
   "execution_count": 22,
   "metadata": {},
   "outputs": [
    {
     "data": {
      "text/plain": [
       "500"
      ]
     },
     "execution_count": 22,
     "metadata": {},
     "output_type": "execute_result"
    }
   ],
   "source": [
    "#Write a program to compute: f(n)=f(n-1)+100 when n>0 and f(0)=1 with a given n input by console (n>0). Example: If the following n is given as input to the program: 5 Then, the output of the program should be: 500\n",
    "def f(n):\n",
    "    if n==0:\n",
    "        return 0\n",
    "    else:\n",
    "        return f(n-1)+100\n",
    "\n",
    "f(5)"
   ]
  },
  {
   "cell_type": "code",
   "execution_count": 2,
   "metadata": {},
   "outputs": [
    {
     "name": "stdout",
     "output_type": "stream",
     "text": [
      "[4, 16, 36, 64, 100]\n"
     ]
    },
    {
     "data": {
      "text/plain": [
       "[4, 16, 36, 64, 100]"
      ]
     },
     "execution_count": 2,
     "metadata": {},
     "output_type": "execute_result"
    }
   ],
   "source": [
    "#Write a program which can map() and filter() to make a list whose elements are square of even number in [1,2,3,4,5,6,7,8,9,10].\n",
    "l1=[1,2,3,4,5,6,7,8,9,10]\n",
    "\n",
    "b=list(map(lambda n:n**2,filter(lambda x:x%2==0,l1)))\n",
    "print(b)\n",
    "\n",
    "#without map and filter:\n",
    "l1=[1,2,3,4,5,6,7,8,9,10]\n",
    "def even():\n",
    "    l=[]\n",
    "    for i in l1:\n",
    "        if i%2==0:\n",
    "            l.append(i**2)\n",
    "    return l\n",
    "\n",
    "even()"
   ]
  },
  {
   "cell_type": "code",
   "execution_count": 3,
   "metadata": {},
   "outputs": [
    {
     "data": {
      "text/plain": [
       "[1, 4, 9, 16, 25, 36, 49, 64, 81, 100]"
      ]
     },
     "execution_count": 3,
     "metadata": {},
     "output_type": "execute_result"
    }
   ],
   "source": [
    "#Write a program which can map() to make a list whose elements are square of elements in [1,2,3,4,5,6,7,8,9,10].\n",
    "list(map(lambda m:m**2,l1))"
   ]
  },
  {
   "cell_type": "code",
   "execution_count": 4,
   "metadata": {},
   "outputs": [
    {
     "name": "stdout",
     "output_type": "stream",
     "text": [
      "[1, 2, 3, 4, 5, 6, 7, 8, 9, 10, 11, 12, 13, 14, 15, 16, 17, 18, 19, 20]\n",
      "[1, 4, 9, 16, 25, 36, 49, 64, 81, 100, 121, 144, 169, 196, 225, 256, 289, 324, 361, 400]\n",
      "[1, 4, 9, 16, 25, 36, 49, 64, 81, 100, 121, 144, 169, 196, 225, 256, 289, 324, 361, 400]\n"
     ]
    }
   ],
   "source": [
    "#Write a program which can map() to make a list whose elements are square of numbers between 1 and 20 (both included).\n",
    "l=[]\n",
    "for i in range(1,21):\n",
    "    l.append(i)  \n",
    "print(l)\n",
    "\n",
    "h=list(map(lambda m:m**2,l))\n",
    "print(h)\n",
    "\n",
    "#another way:\n",
    "\n",
    "k=list(map(lambda m:m**2,range(1,21)))\n",
    "print(k)"
   ]
  },
  {
   "cell_type": "code",
   "execution_count": 5,
   "metadata": {
    "scrolled": true
   },
   "outputs": [
    {
     "data": {
      "text/plain": [
       "[2, 4, 6, 8, 10]"
      ]
     },
     "execution_count": 5,
     "metadata": {},
     "output_type": "execute_result"
    }
   ],
   "source": [
    "#Write a program which can filter even numbers in a list by using filter function. The list is: [1,2,3,4,5,6,7,8,9,10].\n",
    "s=[1,2,3,4,5,6,7,8,9,10]\n",
    "list(filter(lambda x:x%2==0,s))"
   ]
  },
  {
   "cell_type": "code",
   "execution_count": 1,
   "metadata": {},
   "outputs": [
    {
     "data": {
      "text/plain": [
       "[2, 4, 6, 8, 10, 12, 14, 16, 18, 20]"
      ]
     },
     "execution_count": 1,
     "metadata": {},
     "output_type": "execute_result"
    }
   ],
   "source": [
    "#Write a program which can filter() to make a list whose elements are even number between 1 and 20 (both included).\n",
    "list(filter(lambda x:x%2==0,range(1,21)))"
   ]
  },
  {
   "cell_type": "code",
   "execution_count": 6,
   "metadata": {},
   "outputs": [
    {
     "name": "stdout",
     "output_type": "stream",
     "text": [
      "enter the string3\n",
      "3702\n"
     ]
    }
   ],
   "source": [
    "#write a program that computes the values of a+aa+aaa+aaaa with a given digit as value of a.\n",
    "a =input(\"enter the string\")\n",
    "n1 = int( \"%s\" % a )\n",
    "n2 = int( \"%s%s\" % (a,a) )\n",
    "n3 = int( \"%s%s%s\" % (a,a,a) )\n",
    "n4 = int( \"%s%s%s%s\" % (a,a,a,a) )\n",
    "print(n1+n2+n3+n4)"
   ]
  },
  {
   "cell_type": "code",
   "execution_count": null,
   "metadata": {},
   "outputs": [
    {
     "name": "stdout",
     "output_type": "stream",
     "text": [
      "enter the total no. of elements5\n",
      "enter the list of elements1\n"
     ]
    }
   ],
   "source": [
    "#write a program to find the 2nd most frequently occurring number in a given list. Read list from input\n",
    "number_list=[]\n",
    "count=0\n",
    "number=int(input(\"enter the total no. of elements\"))\n",
    "for i in range(1,number+1):\n",
    "    value=int(input(\"enter the list of elements\"))\n",
    "    search=int(input(\"enter the value to be searched\"))\n",
    "    number_list.append(value)\n",
    "    for i in number_list:\n",
    "        if i==search:\n",
    "            count=count+1\n",
    "print(number_list)"
   ]
  },
  {
   "cell_type": "code",
   "execution_count": 51,
   "metadata": {},
   "outputs": [
    {
     "name": "stdout",
     "output_type": "stream",
     "text": [
      "[35]\n",
      "True\n"
     ]
    }
   ],
   "source": [
    "# With two given lists [1,3,6,78,35,55] and [12,24,35,24,88,120,155], write a program to make a list whose elements are intersection of the above given lists.\n",
    "\n",
    "l3=[1,3,6,78,35,55] \n",
    "l4=[12,24,35,24,88,120,155]\n",
    "m=list(set(l3).intersection(set(l4)))\n",
    "print(m)\n",
    "\n",
    "\n",
    "#another way\n",
    "l3=[1,3,6,78,35,55] \n",
    "l4=[12,24,35,24,88,120,155]\n",
    "def common(list1,list2):\n",
    "    for a in l3:\n",
    "        for b in l4:\n",
    "            if a==b:\n",
    "                return True\n",
    "\n",
    "print(common([1,3,6,78,35,55],[12,24,35,24,88,120,155]))"
   ]
  },
  {
   "cell_type": "code",
   "execution_count": 20,
   "metadata": {},
   "outputs": [
    {
     "data": {
      "text/plain": [
       "'111'"
      ]
     },
     "execution_count": 20,
     "metadata": {},
     "output_type": "execute_result"
    }
   ],
   "source": [
    "#Write a program to set nth bit of a number.  we can set nth bit mean last bit of i/p to 0 or 1\n",
    "def set_nth_bit(x:int,n:int):\n",
    "    return bin(x|1<<n)[2:]##to get binary format use bin word \n",
    "\n",
    "set_nth_bit(6,0)\n",
    "#logic: 110(6 binary number)\n",
    "#1<<0:  001(1 binaryu number)\n",
    "#result:111(OR operation)  starting i/p 6(110) has 0 value has nth bit so we need to change to 1 bit 1<<n else 2<<n"
   ]
  },
  {
   "cell_type": "code",
   "execution_count": 5,
   "metadata": {},
   "outputs": [
    {
     "name": "stdout",
     "output_type": "stream",
     "text": [
      " number121\n",
      "pallindrome\n"
     ]
    }
   ],
   "source": [
    "#Write a program to find whether given number is pallindrome or not.\n",
    "num=int(input(\" number\")) \n",
    "temp=num\n",
    "rev=0\n",
    "while num>0:\n",
    "    rem=int(num%10)\n",
    "    rev=rev*10+rem\n",
    "    num=int(num//10)\n",
    "if temp==rev:\n",
    "    print(\"pallindrome\")\n",
    "else:\n",
    "    print(\"not\")"
   ]
  },
  {
   "cell_type": "code",
   "execution_count": 1,
   "metadata": {},
   "outputs": [
    {
     "name": "stdout",
     "output_type": "stream",
     "text": [
      " number6\n",
      "position of bit to toggle1\n",
      "result after toggling\n",
      "7\n"
     ]
    },
    {
     "data": {
      "text/plain": [
       "'111'"
      ]
     },
     "execution_count": 1,
     "metadata": {},
     "output_type": "execute_result"
    }
   ],
   "source": [
    "#Write a program to toggle nth bit of a number\n",
    "num=int(input(\" number\")) \n",
    "n =int(input(\"position of bit to toggle\")) \n",
    "print(\"result after toggling\")  \n",
    "print(num ^ (1 << (n - 1))) # xor with the position bit to toggle\n",
    "\n",
    "\n",
    "#or\n",
    "def toggle_nth_bit(x:int,n:int):\n",
    "    return bin(x^1<<n)[2:]##to get binary format use bin word \n",
    "\n",
    "toggle_nth_bit(6,0)\n",
    "\n"
   ]
  },
  {
   "cell_type": "code",
   "execution_count": 7,
   "metadata": {},
   "outputs": [
    {
     "name": "stdout",
     "output_type": "stream",
     "text": [
      "number is: 1234\n",
      "number is 11234\n"
     ]
    }
   ],
   "source": [
    "#Write a program to rotate bits of a given number.doubt\n",
    "number=1234\n",
    "print(\"number is:\",number)\n",
    "n=0\n",
    "mult=1\n",
    "while number>0:\n",
    "    rem=int(number%10)\n",
    "    number=int(number/10)\n",
    "    n+=rem*mult\n",
    "    mult*=10\n",
    "number=n+rem*mult\n",
    "print(\"number is\",number)"
   ]
  },
  {
   "cell_type": "code",
   "execution_count": 7,
   "metadata": {},
   "outputs": [
    {
     "data": {
      "text/plain": [
       "'3'"
      ]
     },
     "execution_count": 7,
     "metadata": {},
     "output_type": "execute_result"
    }
   ],
   "source": [
    "#Define a function that can convert a integer into a string and print it in console.\n",
    "def convert(n):\n",
    "    return str(n)\n",
    "    \n",
    "convert(3)"
   ]
  },
  {
   "cell_type": "code",
   "execution_count": 77,
   "metadata": {},
   "outputs": [
    {
     "name": "stdout",
     "output_type": "stream",
     "text": [
      "[105, 107, 160, 152, 141]\n"
     ]
    }
   ],
   "source": [
    "##Please write a program to generate a list with 5 random numbers between 100 and 200 inclusive.\n",
    "print(random.sample(range(100,201),5))"
   ]
  },
  {
   "cell_type": "code",
   "execution_count": 78,
   "metadata": {},
   "outputs": [
    {
     "data": {
      "text/plain": [
       "175"
      ]
     },
     "execution_count": 78,
     "metadata": {},
     "output_type": "execute_result"
    }
   ],
   "source": [
    "##Please write a program to output a random number, which is divisible by 5 and 7, between 100 and 200 inclusive using random module and list comprehension.\n",
    "import random\n",
    "random.choice([x for x in range(201) if x%5==0 and x%7==0])"
   ]
  },
  {
   "cell_type": "code",
   "execution_count": 29,
   "metadata": {},
   "outputs": [
    {
     "name": "stdout",
     "output_type": "stream",
     "text": [
      "[980, 70, 385, 490, 455]\n"
     ]
    }
   ],
   "source": [
    "#Please write a program to randomly generate a list with 5 numbers, which are divisible by 5 and 7 , between 1 and 1000 inclusive.\n",
    "import random\n",
    "print(random.sample([i for i in range(1,1001) if i%5==0 and i%7==0], 5))"
   ]
  },
  {
   "cell_type": "code",
   "execution_count": 32,
   "metadata": {},
   "outputs": [
    {
     "name": "stdout",
     "output_type": "stream",
     "text": [
      "[182, 184, 112, 188, 160]\n"
     ]
    }
   ],
   "source": [
    "#Please write a program to generate a list with 5 even numbers between 100 and 200 inclusive.\n",
    "import random\n",
    "print(random.sample([i for i in range(100,201) if i%2==0], 5))"
   ]
  },
  {
   "cell_type": "code",
   "execution_count": 86,
   "metadata": {},
   "outputs": [
    {
     "data": {
      "text/plain": [
       "8"
      ]
     },
     "execution_count": 86,
     "metadata": {},
     "output_type": "execute_result"
    }
   ],
   "source": [
    "#Please write a program to output a random even number between 0 and 10 inclusive using random module and list comprehension.\n",
    "import random\n",
    "random.choice([x for x in range(11) if x%2==0])"
   ]
  },
  {
   "cell_type": "code",
   "execution_count": 43,
   "metadata": {},
   "outputs": [
    {
     "name": "stdout",
     "output_type": "stream",
     "text": [
      "14\n"
     ]
    }
   ],
   "source": [
    "#Please write a program to randomly print a integer number between 7 and 15 inclusive.\n",
    "import random\n",
    "print(random.randrange(7,16))"
   ]
  },
  {
   "cell_type": "code",
   "execution_count": 56,
   "metadata": {},
   "outputs": [
    {
     "name": "stdout",
     "output_type": "stream",
     "text": [
      "[7, 8, 3, 6]\n"
     ]
    }
   ],
   "source": [
    "#Please write a program to shuffle and print the list [3,6,7,8].\n",
    "from random import shuffle\n",
    "l=[3,6,7,8]\n",
    "random.shuffle(l)\n",
    "print(l)"
   ]
  },
  {
   "cell_type": "code",
   "execution_count": null,
   "metadata": {},
   "outputs": [],
   "source": [
    "#write a program to find the 2nd most frequently occurring number in a given list. Read list from input\n"
   ]
  },
  {
   "cell_type": "code",
   "execution_count": 3,
   "metadata": {},
   "outputs": [
    {
     "name": "stdout",
     "output_type": "stream",
     "text": [
      "enter the number8\n",
      "{1: 1, 2: 4, 3: 9, 4: 16, 5: 25, 6: 36, 7: 49, 8: 64}\n"
     ]
    }
   ],
   "source": [
    "#With a given integral number n, write a program to generate a dictionary that contains (i, i*i) such that is an integral number between 1 and n (both included). and then the program should print the dictionary.\n",
    "#Suppose the following input is supplied to the program: 8\n",
    "#Then, the output should be:\n",
    "#{1: 1, 2: 4, 3: 9, 4: 16, 5: 25, 6: 36, 7: 49, 8: 64}\n",
    "n=int(input(\"enter the number\"))\n",
    "dict={}\n",
    "for i in range(1,n+1):\n",
    "    dict[i]=i*i\n",
    "print(dict)\n",
    "    "
   ]
  },
  {
   "cell_type": "code",
   "execution_count": 12,
   "metadata": {},
   "outputs": [
    {
     "name": "stdout",
     "output_type": "stream",
     "text": [
      "enter the numbers: 34,67,55,33,12,98\n",
      "('34', '67', '55', '33', '12', '98')\n"
     ]
    },
    {
     "data": {
      "text/plain": [
       "['34', '67', '55', '33', '12', '98']"
      ]
     },
     "execution_count": 12,
     "metadata": {},
     "output_type": "execute_result"
    }
   ],
   "source": [
    "#Write a program which accepts a sequence of comma-separated numbers from console and generate a list and a tuple which contains every number.\n",
    "#Suppose the following input is supplied to the program:\n",
    "#34,67,55,33,12,98\n",
    "#Then, the output should be: ['34', '67', '55', '33', '12', '98']    and   ('34', '67', '55', '33', '12', '98')\n",
    "\n",
    "values=input(\"enter the numbers: \")\n",
    "l=values.split(\",\")\n",
    "b=tuple(l)\n",
    "print(b)\n",
    "list(l)"
   ]
  },
  {
   "cell_type": "code",
   "execution_count": 25,
   "metadata": {},
   "outputs": [
    {
     "name": "stdout",
     "output_type": "stream",
     "text": [
      "mummy\n"
     ]
    }
   ],
   "source": [
    "#Define a function that can accept two strings as input and print the string with maximum length in console. If two strings have the same length, then the function should print all strings line by line.\n",
    "\n",
    "def strs(s1,s2):\n",
    "    len1=len(s1)\n",
    "    len2=len(s2)\n",
    "    if len1>len2:\n",
    "        print(s1)\n",
    "    elif len1<len2:\n",
    "        print(s2)\n",
    "    else:\n",
    "        print(s1)\n",
    "        print(s2)\n",
    "        \n",
    "strs(\"mummy\",\"dady\")"
   ]
  },
  {
   "cell_type": "code",
   "execution_count": 1,
   "metadata": {},
   "outputs": [
    {
     "name": "stdout",
     "output_type": "stream",
     "text": [
      "100,150,180\n",
      "18,22,24\n"
     ]
    }
   ],
   "source": [
    "#Write a program that calculates and prints the value according to the given formula: Q = Square root of [(2 * C * D)/H] Following are the fixed values of C and H: C is 50. H is 30. D is the variable whose values should be input to your program in a comma-separated sequence. Example Let us assume the following comma separated input sequence is given to the program: 100,150,180 The output of the program should be: 18,22,24 Hints: If the output received is in decimal form, it should be rounded off to its nearest value (for example, if the output received is 26.0, it should be printed as 26) In case of input data being supplied to the question, it should be assumed to be a console input.\n",
    "#Write a program that calculates and prints the value according to the given formula: Q = Square root of [(2 * C * D)/H] Following are the fixed values of C and H: C is 50. H is 30. D is the variable whose values should be input to your program in a comma-separated sequence. Example Let us assume the following comma separated input sequence is given to the program: 100,150,180 The output of the program should be: 18,22,24 Hints: If the output received is in decimal form, it should be rounded off to its nearest value (for example, if the output received is 26.0, it should be printed as 26) In case of input data being supplied to the question, it should be assumed to be a console input.\n",
    "import math\n",
    "c=50\n",
    "h=30\n",
    "value = []\n",
    "items=[x for x in input().split(',')]\n",
    "for d in items:\n",
    "    value.append(str(int(round(math.sqrt(2*c*float(d)/h)))))\n",
    "\n",
    "print((',').join(value))\n"
   ]
  },
  {
   "cell_type": "code",
   "execution_count": 3,
   "metadata": {},
   "outputs": [
    {
     "name": "stdout",
     "output_type": "stream",
     "text": [
      "hello world\n"
     ]
    }
   ],
   "source": [
    "#Print a unicode string \"hello world\".   Use u'strings' format to define unicode string.\n",
    "unicode=u\"hello world\"\n",
    "print(unicode)"
   ]
  },
  {
   "cell_type": "code",
   "execution_count": 21,
   "metadata": {},
   "outputs": [
    {
     "name": "stdout",
     "output_type": "stream",
     "text": [
      "enter the number5\n",
      "3.5500000000000003\n"
     ]
    }
   ],
   "source": [
    "#Write a program to compute 1/2+2/3+3/4+...+n/n+1 with a given n input by console (n>0).\n",
    "\n",
    "#Example: If the following n is given as input to the program: 5\n",
    "\n",
    "#Then, the output of the program should be:  3.55\n",
    "\n",
    "n=int(input(\"enter the number\"))\n",
    "sum=0.0\n",
    "for i in range(1,n+1):\n",
    "    sum+=float(float(i)/float(i+1))\n",
    "print(sum)"
   ]
  },
  {
   "cell_type": "code",
   "execution_count": 16,
   "metadata": {},
   "outputs": [
    {
     "name": "stdout",
     "output_type": "stream",
     "text": [
      "enter the number7\n",
      "13\n"
     ]
    },
    {
     "data": {
      "text/plain": [
       "13"
      ]
     },
     "execution_count": 16,
     "metadata": {},
     "output_type": "execute_result"
    }
   ],
   "source": [
    "#The Fibonacci Sequence is computed based on the following formula:\n",
    "\n",
    "#f(n)=0 if n=0\n",
    "#f(n)=1 if n=1\n",
    "#f(n)=f(n-1)+f(n-2) if n>1. Please write a program to compute the value of f(n) with a given n input by console.\n",
    "\n",
    "#Example: If the following n is given as input to the program: 7\n",
    "\n",
    "#Then, the output of the program should be: 13. In case of input data being supplied to the question, it should be assumed to be a console input.\n",
    "\n",
    "n=int(input(\"enter the number\"))\n",
    "a=0\n",
    "b=1\n",
    "for i in range(0,n):\n",
    "    a,b=b,a+b\n",
    "print(a)\n",
    "    \n",
    "#another waY: recursive function\n",
    "def f(n):\n",
    "    if n==0:\n",
    "        return 0\n",
    "    elif n==1:\n",
    "        return 1\n",
    "    else:\n",
    "        return f(n-1)+f(n-2)\n",
    "\n",
    "f(7)"
   ]
  },
  {
   "cell_type": "code",
   "execution_count": 65,
   "metadata": {},
   "outputs": [
    {
     "name": "stdout",
     "output_type": "stream",
     "text": [
      "0\n",
      "1\n",
      "1\n",
      "2\n",
      "3\n",
      "5\n",
      "8\n",
      "13\n",
      "enter the number8\n",
      "0,1,1,2,3,5,8,13\n"
     ]
    }
   ],
   "source": [
    "#The Fibonacci Sequence is computed based on the following formula:\n",
    "#f(n)=0 if n=0\n",
    "#f(n)=1 if n=1\n",
    "#f(n)=f(n-1)+f(n-2) if n>1. Please write a program using list comprehension to print the Fibonacci Sequence in comma separated form with a given n input by console.\n",
    "\n",
    "#Example: If the following n is given as input to the program: 7\n",
    "\n",
    "#Then, the output of the program should be: 0,1,1,2,3,5,8,13\n",
    "\n",
    "def fibo(n):\n",
    "    a=0\n",
    "    b=1\n",
    "    print(a)\n",
    "    print(b)\n",
    "    if n==1:\n",
    "        print(a)\n",
    "    else:\n",
    "        for i in range(2,n+1):\n",
    "            c=a+b\n",
    "            a=b\n",
    "            b=c\n",
    "            print(c)\n",
    "\n",
    "fibo(7)\n",
    "\n",
    "\n",
    "#another method:\n",
    "\n",
    "def f(n):\n",
    "    if n==0:\n",
    "        return 0\n",
    "    elif n==1:\n",
    "        return 1\n",
    "    else:\n",
    "        return f(n-1)+f(n-2)\n",
    "    \n",
    "n=int(input(\"enter the number\"))\n",
    "value=[str(f(i)) for i in range(0,n)]\n",
    "print((\",\").join(value))"
   ]
  },
  {
   "cell_type": "code",
   "execution_count": 19,
   "metadata": {},
   "outputs": [
    {
     "name": "stdout",
     "output_type": "stream",
     "text": [
      "APPLE\n",
      "orange\n",
      "apple\n",
      "APPLE\n"
     ]
    }
   ],
   "source": [
    "##Define a class which has at least two methods: getString: to get a string from console input printString: to print the string in upper case. Also please include simple test function to test the class methods. Hints: Use __init__ method to construct some parameters\n",
    "\n",
    "class str:\n",
    "    def __init__(self,m1,m2):\n",
    "        self.m1=m1\n",
    "        self.m2=m2\n",
    "        \n",
    "    def getstr(self):\n",
    "        return self.m1\n",
    "    \n",
    "    \n",
    "    def setstr(self,m3):\n",
    "        self.m2=m3\n",
    "    \n",
    "b=str(\"apple\",\"bannaa\")\n",
    "b.setstr(\"orange\")\n",
    "b.getstr()\n",
    "print(b.m1.upper())\n",
    "print(b.m2)\n",
    "\n",
    "\n",
    "#another way:\n",
    "\n",
    "class Input(object):\n",
    "    def __init__(self):\n",
    "        self.s = \"\"\n",
    "\n",
    "    def getString(self):\n",
    "        self.s = input()\n",
    "\n",
    "    def printString(self):\n",
    "        print(self.s.upper())\n",
    "\n",
    "strObj = Input()\n",
    "strObj.getString()\n",
    "strObj.printString()"
   ]
  },
  {
   "cell_type": "code",
   "execution_count": 18,
   "metadata": {},
   "outputs": [
    {
     "name": "stdout",
     "output_type": "stream",
     "text": [
      "4.272880085817966\n"
     ]
    }
   ],
   "source": [
    "#Please write a program to print the running time of execution of \"1+1\" for 100 times.  timeit is used to measure time\n",
    "\n",
    "from timeit import Timer\n",
    "t=Timer(\"for i in range(100):1+1\")\n",
    "print(t.timeit())"
   ]
  },
  {
   "cell_type": "code",
   "execution_count": 77,
   "metadata": {},
   "outputs": [
    {
     "data": {
      "text/plain": [
       "28.26"
      ]
     },
     "execution_count": 77,
     "metadata": {},
     "output_type": "execute_result"
    }
   ],
   "source": [
    "#Define a class named Circle which can be constructed by a radius. The Circle class has a method which can compute the area.\n",
    "class circle:\n",
    "    def __init__(self,r):\n",
    "        self.radius=r\n",
    "    \n",
    "    def area(self):\n",
    "        return self.radius**2*3.14\n",
    "    \n",
    "b=circle(3)\n",
    "b.area()"
   ]
  },
  {
   "cell_type": "code",
   "execution_count": 19,
   "metadata": {},
   "outputs": [
    {
     "name": "stdout",
     "output_type": "stream",
     "text": [
      "(23, 12)\n"
     ]
    }
   ],
   "source": [
    "#Write a program to solve a classic ancient Chinese puzzle:We count 35 heads and 94 legs among the chickens and rabbits in a farm. How many rabbits and how many chickens do we have? Hint: Use for loop to iterate all possible solutions.\n",
    "\n",
    "def solve(numheads,numlegs):\n",
    "    ns='No solutions!'\n",
    "    for i in range(numheads+1):\n",
    "        j=numheads-i\n",
    "        if 2*i+4*j==numlegs:\n",
    "            return i,j\n",
    "    return ns,ns\n",
    "\n",
    "numheads=35\n",
    "numlegs=94\n",
    "solutions=solve(numheads,numlegs)\n",
    "print(solutions)"
   ]
  },
  {
   "cell_type": "code",
   "execution_count": 16,
   "metadata": {},
   "outputs": [
    {
     "name": "stdout",
     "output_type": "stream",
     "text": [
      "(1, 2, 3, 4, 5, 6, 7, 8, 9, 10)\n"
     ]
    },
    {
     "data": {
      "text/plain": [
       "(6, 7, 8, 9, 10)"
      ]
     },
     "execution_count": 16,
     "metadata": {},
     "output_type": "execute_result"
    }
   ],
   "source": [
    "#With a given tuple (1,2,3,4,5,6,7,8,9,10), write a program to print the first half values in one line and the last half values in one line.\n",
    "\n",
    "list=[1,2,3,4,5,6,7,8,9,10]\n",
    "n=tuple(list)\n",
    "print(n)\n",
    "n[:5]\n",
    "n[5:]"
   ]
  },
  {
   "cell_type": "code",
   "execution_count": 5,
   "metadata": {},
   "outputs": [
    {
     "name": "stdout",
     "output_type": "stream",
     "text": [
      "odd number 3\n",
      "even number 4\n"
     ]
    }
   ],
   "source": [
    "#Define a function that can accept an integer number as input and print the \"It is an even number\" if the number is even, otherwise print \"It is an odd number\".\n",
    "\n",
    "def even(n):\n",
    "    if n%2==0:\n",
    "        print(\"even number\",n)\n",
    "    else:\n",
    "        print(\"odd number\",n)\n",
    "        \n",
    "even(3)\n",
    "even(4)"
   ]
  },
  {
   "cell_type": "code",
   "execution_count": 19,
   "metadata": {},
   "outputs": [
    {
     "name": "stdout",
     "output_type": "stream",
     "text": [
      "enter the number8\n",
      "40320\n"
     ]
    }
   ],
   "source": [
    "#Write a program which can compute the factorial of a given numbers. The results should be printed in a comma-separated sequence on a single line. Suppose the following input is supplied to the program: 8 Then, the output should be: 40320\n",
    "\n",
    "def fact(n):\n",
    "    if n==0:\n",
    "        return 1\n",
    "    else:\n",
    "        return n*fact(n-1)\n",
    "\n",
    "n=int(input(\"enter the number\"))\n",
    "print(fact(n))"
   ]
  },
  {
   "cell_type": "code",
   "execution_count": 26,
   "metadata": {},
   "outputs": [
    {
     "data": {
      "text/plain": [
       "6"
      ]
     },
     "execution_count": 26,
     "metadata": {},
     "output_type": "execute_result"
    }
   ],
   "source": [
    "#Define a class named Rectangle which can be constructed by a length and width. The Rectangle class has a method which can compute the area.\n",
    "\n",
    "class rectangle:\n",
    "    def __init__(self,length,width):\n",
    "        self.length=length\n",
    "        self.width=width\n",
    "        \n",
    "    def area(self):\n",
    "        return self.length*self.width\n",
    "        \n",
    "    \n",
    "n=rectangle(2,3)\n",
    "n.area()"
   ]
  },
  {
   "cell_type": "code",
   "execution_count": 1,
   "metadata": {},
   "outputs": [
    {
     "ename": "RuntimeError",
     "evalue": "something wrong",
     "output_type": "error",
     "traceback": [
      "\u001b[1;31m---------------------------------------------------------------------------\u001b[0m",
      "\u001b[1;31mRuntimeError\u001b[0m                              Traceback (most recent call last)",
      "\u001b[1;32m<ipython-input-1-822f19eddd71>\u001b[0m in \u001b[0;36m<module>\u001b[1;34m()\u001b[0m\n\u001b[0;32m      1\u001b[0m \u001b[1;31m#Please raise a RuntimeError exception. Hints: Use raise() to raise an exception.\u001b[0m\u001b[1;33m\u001b[0m\u001b[1;33m\u001b[0m\u001b[0m\n\u001b[0;32m      2\u001b[0m \u001b[1;33m\u001b[0m\u001b[0m\n\u001b[1;32m----> 3\u001b[1;33m \u001b[1;32mraise\u001b[0m \u001b[0mRuntimeError\u001b[0m\u001b[1;33m(\u001b[0m\u001b[1;34m\"something wrong\"\u001b[0m\u001b[1;33m)\u001b[0m\u001b[1;33m\u001b[0m\u001b[0m\n\u001b[0m",
      "\u001b[1;31mRuntimeError\u001b[0m: something wrong"
     ]
    }
   ],
   "source": [
    "#Please raise a RuntimeError exception. Hints: Use raise() to raise an exception.\n",
    "\n",
    "raise RuntimeError(\"something wrong\")"
   ]
  },
  {
   "cell_type": "code",
   "execution_count": 43,
   "metadata": {},
   "outputs": [
    {
     "name": "stdout",
     "output_type": "stream",
     "text": [
      "[[[0, 0, 0, 0, 0, 0, 0, 0], [0, 0, 0, 0, 0, 0, 0, 0], [0, 0, 0, 0, 0, 0, 0, 0], [0, 0, 0, 0, 0, 0, 0, 0], [0, 0, 0, 0, 0, 0, 0, 0]], [[0, 0, 0, 0, 0, 0, 0, 0], [0, 0, 0, 0, 0, 0, 0, 0], [0, 0, 0, 0, 0, 0, 0, 0], [0, 0, 0, 0, 0, 0, 0, 0], [0, 0, 0, 0, 0, 0, 0, 0]], [[0, 0, 0, 0, 0, 0, 0, 0], [0, 0, 0, 0, 0, 0, 0, 0], [0, 0, 0, 0, 0, 0, 0, 0], [0, 0, 0, 0, 0, 0, 0, 0], [0, 0, 0, 0, 0, 0, 0, 0]]]\n"
     ]
    }
   ],
   "source": [
    "#By using list comprehension, please write a program generate a 3*5*8 3D array whose each element is 0\n",
    "array=[[[0 for col in range(8)] for col in range(5)]for row in range(3)]\n",
    "print(array)"
   ]
  },
  {
   "cell_type": "code",
   "execution_count": 54,
   "metadata": {},
   "outputs": [
    {
     "data": {
      "text/plain": [
       "5"
      ]
     },
     "execution_count": 54,
     "metadata": {},
     "output_type": "execute_result"
    }
   ],
   "source": [
    "#Define a function that can receive two integral numbers in string form and compute their sum and then print it in console.\n",
    "\n",
    "def func(x,y):\n",
    "    c=int(x)+int(y)\n",
    "    return c\n",
    "\n",
    "func(\"2\",\"3\")"
   ]
  },
  {
   "cell_type": "code",
   "execution_count": 4,
   "metadata": {},
   "outputs": [
    {
     "name": "stdout",
     "output_type": "stream",
     "text": [
      "<generator object door at 0x03779510>\n",
      "0 7 14 21 28 35 "
     ]
    }
   ],
   "source": [
    "##Define a class with a generator which can iterate the numbers, which are divisible by 7, between a given range 0 and n. Hints: Consider use yield\n",
    "\n",
    "def door(n):\n",
    "    for i in range(n):\n",
    "        if i%7==0:\n",
    "            yield i\n",
    "                \n",
    "\n",
    "c=door(37)\n",
    "print(c)\n",
    "for i in c:\n",
    "    print(i,end=\" \")"
   ]
  },
  {
   "cell_type": "code",
   "execution_count": 28,
   "metadata": {},
   "outputs": [
    {
     "name": "stdout",
     "output_type": "stream",
     "text": [
      "25 uday\n",
      "montesseri 25\n",
      "montesseri byjus\n"
     ]
    }
   ],
   "source": [
    "#Define a class, which have a class parameter and have a same instance parameter.\n",
    "class student:\n",
    "    school=\"montesseri\"#class parameter \n",
    "    \n",
    "    def __init__(self,age,school=None):#instance parameter.\n",
    "        self.age=age\n",
    "        self.school=school\n",
    "        \n",
    "        \n",
    "        \n",
    "v=student(\"uday\",25)\n",
    "print(v.school,v.age)\n",
    "print(student.school,v.school)\n",
    "v.school=\"byjus\"\n",
    "print(student.school,v.school)"
   ]
  },
  {
   "cell_type": "code",
   "execution_count": 42,
   "metadata": {
    "scrolled": true
   },
   "outputs": [
    {
     "name": "stdout",
     "output_type": "stream",
     "text": [
      "2002,2009,2016,2023,2037,2044,2051,2058,2072,2079,2086,2093,2107,2114,2121,2128,2142,2149,2156,2163,2177,2184,2191,2198,2212,2219,2226,2233,2247,2254,2261,2268,2282,2289,2296,2303,2317,2324,2331,2338,2352,2359,2366,2373,2387,2394,2401,2408,2422,2429,2436,2443,2457,2464,2471,2478,2492,2499,2506,2513,2527,2534,2541,2548,2562,2569,2576,2583,2597,2604,2611,2618,2632,2639,2646,2653,2667,2674,2681,2688,2702,2709,2716,2723,2737,2744,2751,2758,2772,2779,2786,2793,2807,2814,2821,2828,2842,2849,2856,2863,2877,2884,2891,2898,2912,2919,2926,2933,2947,2954,2961,2968,2982,2989,2996,3003,3017,3024,3031,3038,3052,3059,3066,3073,3087,3094,3101,3108,3122,3129,3136,3143,3157,3164,3171,3178,3192,3199,"
     ]
    }
   ],
   "source": [
    "#Write a program which will find all such numbers which are divisible by 7 but are not a multiple of 5,between 2000 and 3200 (both included). The numbers obtained should be printed in a comma-separated sequence on a single line. Hints: Consider use range(#begin, #end) method\n",
    "\n",
    "for i in range(2000,3201):\n",
    "    if i%7==0 and i%5!=0:\n",
    "        print(i,end=\",\")"
   ]
  },
  {
   "cell_type": "code",
   "execution_count": 11,
   "metadata": {},
   "outputs": [
    {
     "name": "stdout",
     "output_type": "stream",
     "text": [
      "enter teh stringhello FGGB fgghghhgds\n",
      "upper case are 4\n",
      "lower case are 15\n"
     ]
    }
   ],
   "source": [
    "#Write a program that accepts a sentence and calculate the number of upper case letters and lower case letters. Suppose the following input is supplied to the program: Hello world! Then, the output should be: UPPER CASE 1 LOWER CASE 9\n",
    "\n",
    "\n",
    "n=input(\"enter teh string\")\n",
    "count1=0\n",
    "count2=0\n",
    "for i in n:\n",
    "    if i.isupper():\n",
    "        count1+=1\n",
    "    elif i.islower():\n",
    "        count2+=1\n",
    "    else:\n",
    "        pass\n",
    "    \n",
    "print(\"upper case are\",count1)\n",
    "print(\"lower case are\",count2)"
   ]
  },
  {
   "cell_type": "code",
   "execution_count": 67,
   "metadata": {},
   "outputs": [
    {
     "data": {
      "text/plain": [
       "[1, 9, 25, 49, 81]"
      ]
     },
     "execution_count": 67,
     "metadata": {},
     "output_type": "execute_result"
    }
   ],
   "source": [
    "#Use a list comprehension to square each odd number in a list. The list is input by a sequence of comma-separated numbers. Suppose the following input is supplied to the program: 1,2,3,4,5,6,7,8,9 Then, the output should be: 1,3,5,7,9\n",
    "\n",
    "[x for x in range(11) if x%2==1]"
   ]
  },
  {
   "cell_type": "code",
   "execution_count": 102,
   "metadata": {},
   "outputs": [
    {
     "name": "stdout",
     "output_type": "stream",
     "text": [
      "(2, 4, 6, 8, 10)\n",
      "(2, 4, 6, 8, 10)\n"
     ]
    }
   ],
   "source": [
    "#Write a program to generate and print another tuple whose values are even numbers in the given tuple (1,2,3,4,5,6,7,8,9,10)\n",
    "t=(1,2,3,4,5,6,7,8,9,10)\n",
    "print(t[1:11:2])\n",
    "\n",
    "#another way:\n",
    "\n",
    "def sqr():\n",
    "    l=[]\n",
    "    for i in range(len(t)):\n",
    "        if t[i]%2==0:\n",
    "            l.append(t[i])\n",
    "    return l\n",
    "\n",
    "print(tuple(sqr()))"
   ]
  },
  {
   "cell_type": "code",
   "execution_count": 104,
   "metadata": {},
   "outputs": [
    {
     "data": {
      "text/plain": [
       "9"
      ]
     },
     "execution_count": 104,
     "metadata": {},
     "output_type": "execute_result"
    }
   ],
   "source": [
    "#Write a method which can calculate square value of number\n",
    "def sqr(n):\n",
    "    return n*n\n",
    "\n",
    "sqr(3)"
   ]
  },
  {
   "cell_type": "code",
   "execution_count": 115,
   "metadata": {},
   "outputs": [
    {
     "data": {
      "text/plain": [
       "9"
      ]
     },
     "execution_count": 115,
     "metadata": {},
     "output_type": "execute_result"
    }
   ],
   "source": [
    "#Define a class named Shape and its subclass Square. The Square class has an init function which takes a length as argument. Both classes have a area function which can print the area of the shape where Shape's area is 0 by default.\n",
    "\n",
    "class Shape:\n",
    "    def __init__(self):\n",
    "        pass\n",
    "    \n",
    "    def area(self):\n",
    "        return 0\n",
    "        \n",
    "class square(Shape):\n",
    "    def __init__(self,length):\n",
    "        Shape.__init__(self)\n",
    "        self.length=length\n",
    "        \n",
    "    def area(self):\n",
    "        return self.length*self.length\n",
    "    \n",
    "s=square(3)\n",
    "s.area()"
   ]
  },
  {
   "cell_type": "code",
   "execution_count": 121,
   "metadata": {},
   "outputs": [
    {
     "data": {
      "text/plain": [
       "{1: 1, 2: 4, 3: 9}"
      ]
     },
     "execution_count": 121,
     "metadata": {},
     "output_type": "execute_result"
    }
   ],
   "source": [
    "#Define a function which can print a dictionary where the keys are numbers between 1 and 3 (both included) and the values are square of keys.\n",
    "\n",
    "def d():\n",
    "    dict={}\n",
    "    for i in range(1,4):\n",
    "        dict[i]=i**2\n",
    "    return dict\n",
    "d()"
   ]
  },
  {
   "cell_type": "code",
   "execution_count": 129,
   "metadata": {},
   "outputs": [
    {
     "name": "stdout",
     "output_type": "stream",
     "text": [
      "1 4 9 16 25 36 49 64 81 100 121 144 169 196 225 256 289 324 361 400 "
     ]
    }
   ],
   "source": [
    "#Define a function which can generate a dictionary where the keys are numbers between 1 and 20 (both included) and the values are square of keys. The function should just print the values only\n",
    "\n",
    "def d():\n",
    "    dict={}\n",
    "    for i in range(1,21):\n",
    "        dict[i]=i**2\n",
    "    for i in dict.values():\n",
    "        print(i,end=\" \")\n",
    "d()\n"
   ]
  },
  {
   "cell_type": "code",
   "execution_count": 133,
   "metadata": {},
   "outputs": [
    {
     "name": "stdout",
     "output_type": "stream",
     "text": [
      "1 1 2 4 3 9 4 16 5 25 6 36 7 49 8 64 9 81 10 100 11 121 12 144 13 169 14 196 15 225 16 256 17 289 18 324 19 361 20 400 "
     ]
    }
   ],
   "source": [
    "#Define a function which can generate a dictionary where the keys are numbers between 1 and 20 (both included) and the values are square of keys.The function should print all key/value combinations.\n",
    "\n",
    "def d():\n",
    "    dict={}\n",
    "    for i in range(1,21):\n",
    "        dict[i]=i**2\n",
    "    for (i,j) in dict.items():\n",
    "        print(i,j,end=\" \")\n",
    "d()"
   ]
  },
  {
   "cell_type": "code",
   "execution_count": 135,
   "metadata": {},
   "outputs": [
    {
     "name": "stdout",
     "output_type": "stream",
     "text": [
      "1 2 3 4 5 6 7 8 9 10 11 12 13 14 15 16 17 18 19 20 "
     ]
    }
   ],
   "source": [
    "##Define a function which can generate a dictionary where the keys are numbers between 1 and 20 (both included) and the values are square of keys. The function should just print the keys only\n",
    "\n",
    "def d():\n",
    "    dict={}\n",
    "    for i in range(1,21):\n",
    "        dict[i]=i**2\n",
    "    for i in dict.keys():\n",
    "        print(i,end=\" \")\n",
    "d()\n"
   ]
  },
  {
   "cell_type": "code",
   "execution_count": 1,
   "metadata": {},
   "outputs": [
    {
     "name": "stdout",
     "output_type": "stream",
     "text": [
      "enter the number 3\n",
      "enter the number1 2\n",
      "3.0\n"
     ]
    }
   ],
   "source": [
    "#Write a program to enter base and height of a triangle and find its area.\n",
    "b=int(input(\"enter the number \"))\n",
    "h=int(input(\"enter the number1 \"))\n",
    "area=0.5*b*h\n",
    "print(area)"
   ]
  },
  {
   "cell_type": "code",
   "execution_count": 4,
   "metadata": {},
   "outputs": [
    {
     "name": "stdout",
     "output_type": "stream",
     "text": [
      "<__main__.American object at 0x03583C70>\n",
      "<__main__.NewYorker object at 0x03583570>\n"
     ]
    }
   ],
   "source": [
    "#Define a class named American and its subclass NewYorker.\n",
    "class American:\n",
    "    pass\n",
    "class NewYorker(American):\n",
    "    pass\n",
    "\n",
    "a=American()\n",
    "b=NewYorker()\n",
    "print(a)\n",
    "print(b)\n"
   ]
  },
  {
   "cell_type": "code",
   "execution_count": 10,
   "metadata": {},
   "outputs": [
    {
     "name": "stdout",
     "output_type": "stream",
     "text": [
      "5\n",
      "77\n",
      "45\n"
     ]
    }
   ],
   "source": [
    "##Please write a program to print the list after removing delete even numbers in [5,6,77,45,22,12,24].\n",
    "l=[5,6,77,45,22,12,24]\n",
    "for i in range(len(l)):\n",
    "    if l[i]%2!=0:\n",
    "        print(l[i])\n"
   ]
  },
  {
   "cell_type": "code",
   "execution_count": 1,
   "metadata": {},
   "outputs": [
    {
     "name": "stdout",
     "output_type": "stream",
     "text": [
      "enter the stringpractice makes man perfect\n",
      "PRACTICE MAKES MAN PERFECT\n",
      "enter the stringpractice makes man perfect\n",
      "PRACTICE MAKES MAN PERFECT\n"
     ]
    }
   ],
   "source": [
    "##Write a program that accepts sequence of lines as input and prints the lines after making all characters in the sentence capitalized. Suppose the following input is supplied to the program: Hello world Practice makes perfect Then, the output should be: HELLO WORLD PRACTICE MAKES PERFECT Hints: In case of input data being supplied to the question, it should be assumed to be a console input.\n",
    "\n",
    "n=input(\"enter the string\")\n",
    "print(n.upper())\n",
    "\n",
    "\n",
    "#another method:\n",
    "s =input(\"enter the string\")\n",
    "lines = []\n",
    "for i in s:\n",
    "        lines.append(i.upper())\n",
    "print((\"\").join(lines))\n"
   ]
  },
  {
   "cell_type": "code",
   "execution_count": 19,
   "metadata": {},
   "outputs": [
    {
     "name": "stdout",
     "output_type": "stream",
     "text": [
      "<class '__main__.female'>\n",
      "<class '__main__.male'>\n"
     ]
    }
   ],
   "source": [
    "##Define a class Person and its two child classes: Male and Female. All classes have a method \"getGender\" which can print \"Male\" for Male class and \"Female\" for Female class\t\n",
    "\n",
    "class person:\n",
    "    def getgender(self):\n",
    "        return unknown\n",
    "\n",
    "class male(person):\n",
    "    def getgender(self):\n",
    "        return male\n",
    "    \n",
    "    \n",
    "class female(person):\n",
    "    def getgender(self):\n",
    "        return female\n",
    "    \n",
    "f=female()\n",
    "print(f.getgender())\n",
    "m=male()\n",
    "print(m.getgender())"
   ]
  },
  {
   "cell_type": "code",
   "execution_count": 21,
   "metadata": {},
   "outputs": [
    {
     "name": "stdout",
     "output_type": "stream",
     "text": [
      "hello\n",
      "hello\n"
     ]
    }
   ],
   "source": [
    "#Define a class named American which has a static method called printNationality.\n",
    "class american:\n",
    "    @staticmethod\n",
    "    def printnationality():\n",
    "        print(\"hello\")\n",
    "        \n",
    "a=american()\n",
    "a.printnationality()\n",
    "american.printnationality()"
   ]
  },
  {
   "cell_type": "code",
   "execution_count": 22,
   "metadata": {},
   "outputs": [
    {
     "name": "stdout",
     "output_type": "stream",
     "text": [
      "enter the stringhello how\n",
      "hlohw\n"
     ]
    }
   ],
   "source": [
    "#Please write a program which accepts a string from console and print the characters that have even indexes.\n",
    "\n",
    "n=input(\"enter the string\")\n",
    "print(n[::2])\n"
   ]
  },
  {
   "cell_type": "code",
   "execution_count": 19,
   "metadata": {},
   "outputs": [
    {
     "name": "stdout",
     "output_type": "stream",
     "text": [
      "enter the stringhello\n",
      "{'h': 1, 'e': 1, 'l': 2, 'o': 1}\n",
      "hello\n",
      "h,1 e,1 l,2 o,1\n"
     ]
    }
   ],
   "source": [
    "#Please write a program which count and print the numbers of each character in a string input by console.\n",
    "\n",
    "n=input(\"enter the string\")\n",
    "count={}\n",
    "for i in n:\n",
    "    if i in count:\n",
    "        count[i]=count[i]+1\n",
    "    else:\n",
    "        count[i]=1\n",
    "\n",
    "print(count)\n",
    "\n",
    "#another method:\n",
    "dic = {}\n",
    "s=input()\n",
    "for i in s:\n",
    "    dic[i] = dic.get(i,0)+1\n",
    "print((' ').join(['%s,%s' % (k, v) for k, v in dic.items()]))\n"
   ]
  },
  {
   "cell_type": "code",
   "execution_count": 26,
   "metadata": {},
   "outputs": [
    {
     "name": "stdout",
     "output_type": "stream",
     "text": [
      "[(1, 2, 3), (1, 3, 2), (2, 1, 3), (2, 3, 1), (3, 1, 2), (3, 2, 1)]\n"
     ]
    }
   ],
   "source": [
    "#Please write a program which prints all permutations of [1,2,3]\n",
    "import itertools\n",
    "print(list(itertools.permutations([1,2,3])))"
   ]
  },
  {
   "cell_type": "code",
   "execution_count": 32,
   "metadata": {},
   "outputs": [
    {
     "name": "stdout",
     "output_type": "stream",
     "text": [
      "enter teh stringhe234llo47734\n",
      "digits are 8\n",
      "letters are 5\n"
     ]
    }
   ],
   "source": [
    "#Write a program that accepts a sentence and calculate the number of letters and digits. Suppose the following input is supplied to the program: hello world! 123 Then, the output should be: LETTERS 10 DIGITS 3\n",
    "\n",
    "\n",
    "n=input(\"enter teh string\")\n",
    "count1=0\n",
    "count2=0\n",
    "for i in n:\n",
    "    if i.isdigit():\n",
    "        count1+=1\n",
    "    elif i.isalpha():\n",
    "        count2+=1\n",
    "    else:\n",
    "        pass\n",
    "print(\"digits are\",count1)\n",
    "print(\"letters are\",count2)"
   ]
  },
  {
   "cell_type": "code",
   "execution_count": 5,
   "metadata": {},
   "outputs": [
    {
     "name": "stdout",
     "output_type": "stream",
     "text": [
      "enter the stringjohn@google.com \n",
      "google.\n"
     ]
    }
   ],
   "source": [
    "###Assuming that we have some email addresses in the \"username@companyname.com\" format, please write program to print the company name of a given email address. Both user names and company names are composed of letters only. Example: If the following email address is given as input to the program: john@google.com Then, the output of the program should be: google\n",
    "\n",
    "import re\n",
    "email=input(\"enter the string\")\n",
    "b=\"(\\w+)@((\\w+\\.)+(com))\"#\\w to match letters\n",
    "p=re.match(b,email)\n",
    "print(p.group(3))"
   ]
  },
  {
   "cell_type": "code",
   "execution_count": 3,
   "metadata": {},
   "outputs": [
    {
     "name": "stdout",
     "output_type": "stream",
     "text": [
      "a0B#,9Bd@1a7,a9C#n@,A2a$c1B\n",
      "9Bd@1a7,a9C#n@,A2a$c1B\n"
     ]
    }
   ],
   "source": [
    "#A website requires the users to input username and password to register. Write a program to check the validity of password input by users. Following are the criteria for checking the password: 1. At least 1 letter between [a-z] 2. At least 1 number between [0-9] 1. At least 1 letter between [A-Z] 3. At least 1 character from [$#@] 4. Minimum length of transaction password: 6 5. Maximum length of transaction password: 12 Your program should accept a sequence of comma separated passwords and will check them according to the above criteria. Passwords that match the criteria are to be printed, each separated by a comma. Example If the following passwords are given as input to the program: ABd1234@1,a F1#,2w3E*,2We3345 Then, the output of the program should be: ABd1234@1\n",
    "\n",
    "import re\n",
    "value = []\n",
    "items=[x for x in input().split(',')]\n",
    "for p in items:\n",
    "    if len(p)<6 or len(p)>12:\n",
    "        continue\n",
    "    else:\n",
    "        pass\n",
    "    if not re.search(\"[a-z]\",p):\n",
    "        continue\n",
    "    elif not re.search(\"[0-9]\",p):\n",
    "        continue\n",
    "    elif not re.search(\"[A-Z]\",p):\n",
    "        continue\n",
    "    elif not re.search(\"[$#@]\",p):\n",
    "        continue\n",
    "    elif re.search(\"\\s\",p):\n",
    "        continue\n",
    "    else:\n",
    "        pass\n",
    "    value.append(p)\n",
    "print((\",\").join(value))"
   ]
  }
 ],
 "metadata": {
  "kernelspec": {
   "display_name": "Python 3",
   "language": "python",
   "name": "python3"
  },
  "language_info": {
   "codemirror_mode": {
    "name": "ipython",
    "version": 3
   },
   "file_extension": ".py",
   "mimetype": "text/x-python",
   "name": "python",
   "nbconvert_exporter": "python",
   "pygments_lexer": "ipython3",
   "version": "3.6.5"
  }
 },
 "nbformat": 4,
 "nbformat_minor": 2
}
